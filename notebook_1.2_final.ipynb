{
 "cells": [
  {
   "cell_type": "markdown",
   "metadata": {},
   "source": [
    "<div class=\"alert alert-success\">\n",
    "<h2> Комментарий ревьюера 2</h2>\n",
    "\n",
    "Привет еще раз. Спасибо, что доделал работу. Оформление комментариев по работе сохраняется. Только обозначим, что это вторая итерация. \n",
    "\n",
    "</div>"
   ]
  },
  {
   "cell_type": "markdown",
   "metadata": {},
   "source": [
    "<div class=\"alert alert-success\">\n",
    "<h2> Комментарий ревьюера </h2>\n",
    "\n",
    "Привет! Спасибо, что исправил задание:) Ты проделал большую работу над проектом, однако его еще можно улучшить. Будет здорово, если ты, надеюсь, не против, если я буду на ты, будешь отвечать на комментарии и участвовать в диалоге. \n",
    "\n",
    "Мои комментарии обозначены пометкой **Комментарий ревьюера**. Далее в файле ты сможешь найти их в похожих ячейках (если фон комментария <font color=green>зелёный</font> - всё сделано правильно. Рекомендации укажу таким же цветом; <font color=orange>оранжевый</font> - некритичные замечания. Если таких замечаний меньше трех - проект может быть принят без их отработки; <font color=red>красный</font> - нужно переделать). Не удаляй эти комментарии и постарайся учесть их в ходе выполнения данного проекта. \n",
    "\n",
    "\n",
    "<h2> Ответ </h2>\n",
    "\n",
    "Привет! Спасибо! На \"ты\", конечно, не против. Рад, что так подробно описал проделанную работу! Не знаю, как правильно будет отвечать, поэтому буду делать это как в прошлый раз - в ячейке с твоим комментарием)\n",
    "    </div>"
   ]
  },
  {
   "cell_type": "markdown",
   "metadata": {},
   "source": [
    "<div class=\"alert alert-info\">\n",
    "<h2> Комментарий ревьюера 2</h2>\n",
    "\n",
    "Как вариант, можно использовать такой цвет для ответных комментариев. \n",
    "\n",
    "</div>"
   ]
  },
  {
   "cell_type": "markdown",
   "metadata": {},
   "source": [
    "<div class=\"alert alert-success\">\n",
    "<h2> Комментарий ревьюера 0</h2>\n",
    "\n",
    "Привет! Спасибо, что прислал задание:) Меня зовут Слепцов Артем и я буду проверять твой проект) Ты проделал большую работу над проектом, однако я не могу запустить твой проект полностью из-за ошибки в коде. Пожалуйста, посмотри, что пошло не так. Код должен отрабатывать в окружении практикума. Как исправишь, присылай проект снова. Буду ждать :)\n",
    "    \n",
    "<h2> Ответ </h2>\n",
    "\n",
    "Привет, Артем! Меня зовут Антон и это мой первый проект в IT сфере такого объема) Писал проект в файле. Видимо не все моменты кода одинаково запускаются в разных платформах, буду знать - не проверил сразу. Исправляюсь!\n",
    "</div>"
   ]
  },
  {
   "cell_type": "markdown",
   "metadata": {},
   "source": [
    "<div class=\"alert alert-success\">\n",
    "<h2> Комментарий ревьюера </h2>\n",
    "\n",
    "Да, работоспособность зависит от версий установленных библиотек. \n",
    "</div>"
   ]
  },
  {
   "cell_type": "markdown",
   "metadata": {},
   "source": [
    "<h1>Сборный проект по курсу \"Аналитик данных\" от Яндекс.Практикум</h1>\n",
    "\n",
    "Цель работы: выявить определяющие успешность игры закономерности"
   ]
  },
  {
   "cell_type": "markdown",
   "metadata": {},
   "source": [
    "<h3>Описание проекта</h3>\n",
    "\n",
    "Вы работаете в интернет-магазине «Стримчик», который продаёт по всему миру компьютерные игры. Из открытых источников доступны исторические данные о продажах игр, оценки пользователей и экспертов, жанры и платформы (например, Xbox или PlayStation). Вам нужно выявить определяющие успешность игры закономерности. Это позволит сделать ставку на потенциально популярный продукт и спланировать рекламные кампании.\n",
    "\n",
    "Перед вами данные до 2016 года. Представим, что сейчас декабрь 2016 г., и вы планируете кампанию на 2017-й. Нужно отработать принцип работы с данными. Не важно, прогнозируете ли вы продажи на 2017 год по данным 2016-го или же 2027-й — по данным 2026 года.\n",
    "\n",
    "<h3>Описание данных games.csv</h3>\n",
    "\n",
    "    Name — название игры\n",
    "    Platform — платформа\n",
    "    Year_of_Release — год выпуска\n",
    "    Genre — жанр игры\n",
    "    NA_sales — продажи в Северной Америке (миллионы долларов)\n",
    "    EU_sales — продажи в Европе (миллионы долларов)\n",
    "    JP_sales — продажи в Японии (миллионы долларов)\n",
    "    Other_sales — продажи в других странах (миллионы долларов)\n",
    "    Critic_Score — оценка критиков (от 0 до 100)\n",
    "    User_Score — оценка пользователей (от 0 до 10)\n",
    "    Rating — рейтинг от организации ESRB (англ. Entertainment Software Rating Board). Эта ассоциация определяет рейтинг компьютерных игр и присваивает им подходящую возрастную категорию."
   ]
  },
  {
   "cell_type": "markdown",
   "metadata": {},
   "source": [
    "<div class=\"alert alert-success\">\n",
    "<h2> Комментарий ревьюера</h2>\n",
    "\n",
    "Вступление в работу очень важно. Так ты поясняешь то, чему она посвящена. Еще лучше будет, если ты сделаешь план работы с гиперссылками. Как это реализовать - смотри по [ссылке](https://stackoverflow.com/questions/49535664/how-to-hyperlink-in-a-jupyter-notebook/49717704).\n",
    "\n",
    "</div>"
   ]
  },
  {
   "cell_type": "markdown",
   "metadata": {},
   "source": [
    "<h3>Вступление</h3>\n",
    "Данный проект выполняется в рамках тестового задания по курсу по итогам изученной информации об основах программирования на языке Python и использование его в анализе данных. Попробуем самостоятельно разобраться в предоставленных данных, проанализировать и сделать полезные выводы. Пусть интернет-магазин \"Стримчик\" немного подождет, скоро мы подскажем ему бизнес план на 2017 год!"
   ]
  },
  {
   "cell_type": "markdown",
   "metadata": {},
   "source": [
    "<h3>План работы</h3>\n",
    "В соответствии с инструкцией по выполнению проекта\n",
    "\n",
    "Шаг 1. Быстрые отчеты в SQL (выполнен в тренажере)<br>\n",
    "[Шаг 2. Откройте файл с данными и изучите общую информацию](#step2)<br>\n",
    "[Шаг 3. Подготовьте данные](#step3)<br>\n",
    "[Шаг 4. Проведите исследовательский анализ данных](#step4)<br>\n",
    "[Шаг 5. Составьте портрет пользователя каждого региона](#step5)<br>\n",
    "[Шаг 6. Проведите исследование статистических показателей](#step6)<br>\n",
    "[Шаг 7. Проверьте гипотезы](#step7)<br>\n",
    "[Шаг 8. Напишите общий вывод](#step8)"
   ]
  },
  {
   "cell_type": "markdown",
   "metadata": {},
   "source": [
    "<div class=\"alert alert-success\">\n",
    "<h2> Комментарий ревьюера 2</h2>\n",
    "\n",
    "Круто, что ты разобрался с планом работы 👍 \n",
    "\n",
    "</div>"
   ]
  },
  {
   "cell_type": "markdown",
   "metadata": {},
   "source": [
    "<a id='step2'></a><h2>Шаг 2. Откройте файл с данными и изучите общую информацию</h2>\n",
    "\n",
    "Импортируем библиотеку данных pandas, создадаем DataFrame из файла games.csv и знакомимся со структурой таблицы"
   ]
  },
  {
   "cell_type": "markdown",
   "metadata": {},
   "source": [
    "<div class=\"alert alert-warning\">\n",
    "<h2> Комментарий ревьюера 0</h2>\n",
    "\n",
    "Я заметил, что ячейки в твоей тетрадке начинаются не с 1. Перед отправкой работы рекомендую перезапускать ноутбук, чтобы убедиться, что все ячейки выполняются корректно.\n",
    "\n",
    "<h2> Ответ </h2>\n",
    "\n",
    "Это же делает Kernel > Restart? Согласен, все должно быть по порядку!\n",
    "</div>"
   ]
  },
  {
   "cell_type": "markdown",
   "metadata": {},
   "source": [
    "<div class=\"alert alert-success\">\n",
    "<h2> Комментарий ревьюера</h2>\n",
    "\n",
    "Да, перезапуск позволяет обнаружить и испарвить скрытые в коде ошибки. \n",
    "\n",
    "</div>"
   ]
  },
  {
   "cell_type": "code",
   "execution_count": 1,
   "metadata": {},
   "outputs": [
    {
     "data": {
      "text/html": [
       "<div>\n",
       "<style scoped>\n",
       "    .dataframe tbody tr th:only-of-type {\n",
       "        vertical-align: middle;\n",
       "    }\n",
       "\n",
       "    .dataframe tbody tr th {\n",
       "        vertical-align: top;\n",
       "    }\n",
       "\n",
       "    .dataframe thead th {\n",
       "        text-align: right;\n",
       "    }\n",
       "</style>\n",
       "<table border=\"1\" class=\"dataframe\">\n",
       "  <thead>\n",
       "    <tr style=\"text-align: right;\">\n",
       "      <th></th>\n",
       "      <th>Name</th>\n",
       "      <th>Platform</th>\n",
       "      <th>Year_of_Release</th>\n",
       "      <th>Genre</th>\n",
       "      <th>NA_sales</th>\n",
       "      <th>EU_sales</th>\n",
       "      <th>JP_sales</th>\n",
       "      <th>Other_sales</th>\n",
       "      <th>Critic_Score</th>\n",
       "      <th>User_Score</th>\n",
       "      <th>Rating</th>\n",
       "    </tr>\n",
       "  </thead>\n",
       "  <tbody>\n",
       "    <tr>\n",
       "      <th>0</th>\n",
       "      <td>Wii Sports</td>\n",
       "      <td>Wii</td>\n",
       "      <td>2006.0</td>\n",
       "      <td>Sports</td>\n",
       "      <td>41.36</td>\n",
       "      <td>28.96</td>\n",
       "      <td>3.77</td>\n",
       "      <td>8.45</td>\n",
       "      <td>76.0</td>\n",
       "      <td>8</td>\n",
       "      <td>E</td>\n",
       "    </tr>\n",
       "    <tr>\n",
       "      <th>1</th>\n",
       "      <td>Super Mario Bros.</td>\n",
       "      <td>NES</td>\n",
       "      <td>1985.0</td>\n",
       "      <td>Platform</td>\n",
       "      <td>29.08</td>\n",
       "      <td>3.58</td>\n",
       "      <td>6.81</td>\n",
       "      <td>0.77</td>\n",
       "      <td>NaN</td>\n",
       "      <td>NaN</td>\n",
       "      <td>NaN</td>\n",
       "    </tr>\n",
       "    <tr>\n",
       "      <th>2</th>\n",
       "      <td>Mario Kart Wii</td>\n",
       "      <td>Wii</td>\n",
       "      <td>2008.0</td>\n",
       "      <td>Racing</td>\n",
       "      <td>15.68</td>\n",
       "      <td>12.76</td>\n",
       "      <td>3.79</td>\n",
       "      <td>3.29</td>\n",
       "      <td>82.0</td>\n",
       "      <td>8.3</td>\n",
       "      <td>E</td>\n",
       "    </tr>\n",
       "    <tr>\n",
       "      <th>3</th>\n",
       "      <td>Wii Sports Resort</td>\n",
       "      <td>Wii</td>\n",
       "      <td>2009.0</td>\n",
       "      <td>Sports</td>\n",
       "      <td>15.61</td>\n",
       "      <td>10.93</td>\n",
       "      <td>3.28</td>\n",
       "      <td>2.95</td>\n",
       "      <td>80.0</td>\n",
       "      <td>8</td>\n",
       "      <td>E</td>\n",
       "    </tr>\n",
       "    <tr>\n",
       "      <th>4</th>\n",
       "      <td>Pokemon Red/Pokemon Blue</td>\n",
       "      <td>GB</td>\n",
       "      <td>1996.0</td>\n",
       "      <td>Role-Playing</td>\n",
       "      <td>11.27</td>\n",
       "      <td>8.89</td>\n",
       "      <td>10.22</td>\n",
       "      <td>1.00</td>\n",
       "      <td>NaN</td>\n",
       "      <td>NaN</td>\n",
       "      <td>NaN</td>\n",
       "    </tr>\n",
       "  </tbody>\n",
       "</table>\n",
       "</div>"
      ],
      "text/plain": [
       "                       Name Platform  Year_of_Release         Genre  NA_sales  \\\n",
       "0                Wii Sports      Wii           2006.0        Sports     41.36   \n",
       "1         Super Mario Bros.      NES           1985.0      Platform     29.08   \n",
       "2            Mario Kart Wii      Wii           2008.0        Racing     15.68   \n",
       "3         Wii Sports Resort      Wii           2009.0        Sports     15.61   \n",
       "4  Pokemon Red/Pokemon Blue       GB           1996.0  Role-Playing     11.27   \n",
       "\n",
       "   EU_sales  JP_sales  Other_sales  Critic_Score User_Score Rating  \n",
       "0     28.96      3.77         8.45          76.0          8      E  \n",
       "1      3.58      6.81         0.77           NaN        NaN    NaN  \n",
       "2     12.76      3.79         3.29          82.0        8.3      E  \n",
       "3     10.93      3.28         2.95          80.0          8      E  \n",
       "4      8.89     10.22         1.00           NaN        NaN    NaN  "
      ]
     },
     "metadata": {},
     "output_type": "display_data"
    }
   ],
   "source": [
    "import pandas as pd\n",
    "import warnings\n",
    "import numpy as np\n",
    "from scipy import stats as st\n",
    "warnings.filterwarnings(\"ignore\")\n",
    "\n",
    "df = pd.read_csv('datasets/games.csv')\n",
    "display(df.head())"
   ]
  },
  {
   "cell_type": "markdown",
   "metadata": {},
   "source": [
    "<div class=\"alert alert-warning\">\n",
    "<h2> Комментарий ревьюера </h2>\n",
    "\n",
    "Таблицы на печать выводи с помощью метода display. print переводит данные в строку, а нам этого не надо. \n",
    "\n",
    "<h2> Ответ </h2>\n",
    "\n",
    "Похоже, этот важный момент был успешно упущен из чертогов разума. С display действительно круче!\n",
    "</div>"
   ]
  },
  {
   "cell_type": "markdown",
   "metadata": {},
   "source": [
    "<div class=\"alert alert-success\">\n",
    "<h2> Комментарий ревьюера 2</h2>\n",
    "\n",
    "Да, такой вывод таблиц куда приятнее внешне)\n",
    "\n",
    "</div>"
   ]
  },
  {
   "cell_type": "markdown",
   "metadata": {},
   "source": [
    "Проверим полноту заполнения данных в таблице"
   ]
  },
  {
   "cell_type": "code",
   "execution_count": 2,
   "metadata": {},
   "outputs": [
    {
     "name": "stdout",
     "output_type": "stream",
     "text": [
      "<class 'pandas.core.frame.DataFrame'>\n",
      "RangeIndex: 16715 entries, 0 to 16714\n",
      "Data columns (total 11 columns):\n",
      " #   Column           Non-Null Count  Dtype  \n",
      "---  ------           --------------  -----  \n",
      " 0   Name             16713 non-null  object \n",
      " 1   Platform         16715 non-null  object \n",
      " 2   Year_of_Release  16446 non-null  float64\n",
      " 3   Genre            16713 non-null  object \n",
      " 4   NA_sales         16715 non-null  float64\n",
      " 5   EU_sales         16715 non-null  float64\n",
      " 6   JP_sales         16715 non-null  float64\n",
      " 7   Other_sales      16715 non-null  float64\n",
      " 8   Critic_Score     8137 non-null   float64\n",
      " 9   User_Score       10014 non-null  object \n",
      " 10  Rating           9949 non-null   object \n",
      "dtypes: float64(6), object(5)\n",
      "memory usage: 1.4+ MB\n"
     ]
    },
    {
     "data": {
      "text/plain": [
       "None"
      ]
     },
     "metadata": {},
     "output_type": "display_data"
    }
   ],
   "source": [
    "display(df.info())"
   ]
  },
  {
   "cell_type": "code",
   "execution_count": 3,
   "metadata": {},
   "outputs": [
    {
     "data": {
      "text/plain": [
       "Name                  2\n",
       "Platform              0\n",
       "Year_of_Release     269\n",
       "Genre                 2\n",
       "NA_sales              0\n",
       "EU_sales              0\n",
       "JP_sales              0\n",
       "Other_sales           0\n",
       "Critic_Score       8578\n",
       "User_Score         6701\n",
       "Rating             6766\n",
       "dtype: int64"
      ]
     },
     "metadata": {},
     "output_type": "display_data"
    }
   ],
   "source": [
    "display(df.isna().sum())"
   ]
  },
  {
   "cell_type": "markdown",
   "metadata": {},
   "source": [
    "Пропущены 2 названия игры и жанры, 269 данных по дате релиза. Очень много отсутствующей информации по оценкам и рейтингу (40-50%)."
   ]
  },
  {
   "cell_type": "code",
   "execution_count": 4,
   "metadata": {},
   "outputs": [
    {
     "name": "stdout",
     "output_type": "stream",
     "text": [
      "0\n"
     ]
    }
   ],
   "source": [
    "print(df.duplicated().sum())"
   ]
  },
  {
   "cell_type": "markdown",
   "metadata": {},
   "source": [
    "Дубликатов не выявлено, это хорошо\n",
    "\n",
    "<h2>Выводы по шагу 2</h2>\n",
    "    \n",
    "Представлен датасет из 16715 строк. Есть небольшие пропуски данных в трех столбцах (до 2%). Очень много пропусков в трех столбцах (от 40 до 50%).\n",
    "\n",
    "<b>upd.</b> Пропуски даты релиза скорее всего случайны и найти способ заполнить их по характерным выборкам вполне возможно.\n",
    "\n",
    "Оценки пользователей и критиков пропущены очень сильно - это вполне понятно, источник наших данных врят ли имел возможность охватить такую аудитории, чтобы получить оценку по каждой игре. Может быть это неудачно настроенный агрегатор, а может это был какой-то один рейтинговый портал. Попробуем найти какую-нибдь закономерность для заполнения этих данных.\n",
    "\n",
    "Рейтинг ESRB тоже имеет большое количество пробелов. Возможно, не все игры попадают в ассоциацию для оценки возрастных ограничений - не для всех же именно этот рейтинг является обязательным для издания игры. И уж точно такого рейтинга не было в 80-ых."
   ]
  },
  {
   "cell_type": "markdown",
   "metadata": {},
   "source": [
    "<div class=\"alert alert-success\">\n",
    "<h2> Комментарий ревьюера </h2>\n",
    "\n",
    "Подумай также о возможных причинах появления пропусков, а также о том, являются ли они случайными или нет. Можно высказать предварительные варианты их обработки. \n",
    "\n",
    "Первый взгляд на таблицу выполнен.\n",
    "    \n",
    "<h2> Ответ </h2>\n",
    "\n",
    "Добавил обновление в вывод\n",
    "\n",
    "</div>"
   ]
  },
  {
   "cell_type": "markdown",
   "metadata": {},
   "source": [
    "<a id='step3'></a><h2>Шаг 3. Подготовьте данные</h2>\n",
    "\n",
    "<h3>Замените названия столбцов (приведите к нижнему регистру)</h3>"
   ]
  },
  {
   "cell_type": "code",
   "execution_count": 5,
   "metadata": {},
   "outputs": [
    {
     "name": "stdout",
     "output_type": "stream",
     "text": [
      "Index(['name', 'platform', 'year_of_release', 'genre', 'na_sales', 'eu_sales',\n",
      "       'jp_sales', 'other_sales', 'critic_score', 'user_score', 'rating'],\n",
      "      dtype='object')\n"
     ]
    }
   ],
   "source": [
    "df.set_axis(df.columns.str.lower(), axis='columns', inplace=True)\n",
    "print(df.columns)"
   ]
  },
  {
   "cell_type": "markdown",
   "metadata": {},
   "source": [
    "<div class=\"alert alert-success\">\n",
    "<h2> Комментарий ревьюера </h2>\n",
    "\n",
    "Данный метод позволяет нам автоматизировать процесс приведения названий столбцов к нижнему регистру. Так исключается вероятность опечаток. \n",
    "\n",
    "</div>"
   ]
  },
  {
   "cell_type": "markdown",
   "metadata": {},
   "source": [
    "<h3>Преобразуйте данные в нужные типы. Опишите, в каких столбцах заменили тип данных и почему</h3>\n",
    "<h3>Обработайте пропуски при необходимости</h3>"
   ]
  },
  {
   "cell_type": "markdown",
   "metadata": {},
   "source": [
    "Проверим пропущенные значения в столбце name"
   ]
  },
  {
   "cell_type": "code",
   "execution_count": 6,
   "metadata": {},
   "outputs": [
    {
     "data": {
      "text/html": [
       "<div>\n",
       "<style scoped>\n",
       "    .dataframe tbody tr th:only-of-type {\n",
       "        vertical-align: middle;\n",
       "    }\n",
       "\n",
       "    .dataframe tbody tr th {\n",
       "        vertical-align: top;\n",
       "    }\n",
       "\n",
       "    .dataframe thead th {\n",
       "        text-align: right;\n",
       "    }\n",
       "</style>\n",
       "<table border=\"1\" class=\"dataframe\">\n",
       "  <thead>\n",
       "    <tr style=\"text-align: right;\">\n",
       "      <th></th>\n",
       "      <th>name</th>\n",
       "      <th>platform</th>\n",
       "      <th>year_of_release</th>\n",
       "      <th>genre</th>\n",
       "      <th>na_sales</th>\n",
       "      <th>eu_sales</th>\n",
       "      <th>jp_sales</th>\n",
       "      <th>other_sales</th>\n",
       "      <th>critic_score</th>\n",
       "      <th>user_score</th>\n",
       "      <th>rating</th>\n",
       "    </tr>\n",
       "  </thead>\n",
       "  <tbody>\n",
       "    <tr>\n",
       "      <th>659</th>\n",
       "      <td>NaN</td>\n",
       "      <td>GEN</td>\n",
       "      <td>1993.0</td>\n",
       "      <td>NaN</td>\n",
       "      <td>1.78</td>\n",
       "      <td>0.53</td>\n",
       "      <td>0.00</td>\n",
       "      <td>0.08</td>\n",
       "      <td>NaN</td>\n",
       "      <td>NaN</td>\n",
       "      <td>NaN</td>\n",
       "    </tr>\n",
       "    <tr>\n",
       "      <th>14244</th>\n",
       "      <td>NaN</td>\n",
       "      <td>GEN</td>\n",
       "      <td>1993.0</td>\n",
       "      <td>NaN</td>\n",
       "      <td>0.00</td>\n",
       "      <td>0.00</td>\n",
       "      <td>0.03</td>\n",
       "      <td>0.00</td>\n",
       "      <td>NaN</td>\n",
       "      <td>NaN</td>\n",
       "      <td>NaN</td>\n",
       "    </tr>\n",
       "  </tbody>\n",
       "</table>\n",
       "</div>"
      ],
      "text/plain": [
       "      name platform  year_of_release genre  na_sales  eu_sales  jp_sales  \\\n",
       "659    NaN      GEN           1993.0   NaN      1.78      0.53      0.00   \n",
       "14244  NaN      GEN           1993.0   NaN      0.00      0.00      0.03   \n",
       "\n",
       "       other_sales  critic_score user_score rating  \n",
       "659           0.08           NaN        NaN    NaN  \n",
       "14244         0.00           NaN        NaN    NaN  "
      ]
     },
     "execution_count": 6,
     "metadata": {},
     "output_type": "execute_result"
    }
   ],
   "source": [
    "df[df['name'].isna() == True]"
   ]
  },
  {
   "cell_type": "markdown",
   "metadata": {},
   "source": [
    "По счастливому случаю оба пропуска name совпали с обоими пропусками genre. Кроме того, отсутствуют важные для нас показатели оценок пользователей. Да и год издания 1993. Врят ли отсутствие этих строк помешает нашей работе. Удалим их"
   ]
  },
  {
   "cell_type": "code",
   "execution_count": 7,
   "metadata": {},
   "outputs": [
    {
     "data": {
      "text/plain": [
       "name                  0\n",
       "platform              0\n",
       "year_of_release     269\n",
       "genre                 0\n",
       "na_sales              0\n",
       "eu_sales              0\n",
       "jp_sales              0\n",
       "other_sales           0\n",
       "critic_score       8576\n",
       "user_score         6699\n",
       "rating             6764\n",
       "dtype: int64"
      ]
     },
     "metadata": {},
     "output_type": "display_data"
    }
   ],
   "source": [
    "df.dropna(subset = ['name'], inplace = True)\n",
    "df = df.reset_index(drop=True) \n",
    "display(df.isna().sum())"
   ]
  },
  {
   "cell_type": "markdown",
   "metadata": {},
   "source": [
    "У нас неподходящие форматы данных в столбце user_score. Эти данные должны быть числами, а не строками"
   ]
  },
  {
   "cell_type": "code",
   "execution_count": 8,
   "metadata": {},
   "outputs": [],
   "source": [
    "#df['user_score'] = pd.to_numeric(df['user_score'])"
   ]
  },
  {
   "cell_type": "markdown",
   "metadata": {},
   "source": [
    "Переименование прервано на 119 строке - в столбце указано tbd"
   ]
  },
  {
   "cell_type": "code",
   "execution_count": 9,
   "metadata": {},
   "outputs": [
    {
     "name": "stdout",
     "output_type": "stream",
     "text": [
      "2424\n"
     ]
    }
   ],
   "source": [
    "print(len(df[df['user_score'] == 'tbd']))"
   ]
  },
  {
   "cell_type": "markdown",
   "metadata": {},
   "source": [
    "Помимо 6701 пропущенных значений, здесь еще 2424 неопреденных значения оценки пользователя. Что же, ситуация ухудшается. Заменим выявленные 'tbd' на NaN"
   ]
  },
  {
   "cell_type": "code",
   "execution_count": 10,
   "metadata": {},
   "outputs": [
    {
     "name": "stdout",
     "output_type": "stream",
     "text": [
      "<class 'pandas.core.frame.DataFrame'>\n",
      "RangeIndex: 16713 entries, 0 to 16712\n",
      "Data columns (total 11 columns):\n",
      " #   Column           Non-Null Count  Dtype  \n",
      "---  ------           --------------  -----  \n",
      " 0   name             16713 non-null  object \n",
      " 1   platform         16713 non-null  object \n",
      " 2   year_of_release  16444 non-null  float64\n",
      " 3   genre            16713 non-null  object \n",
      " 4   na_sales         16713 non-null  float64\n",
      " 5   eu_sales         16713 non-null  float64\n",
      " 6   jp_sales         16713 non-null  float64\n",
      " 7   other_sales      16713 non-null  float64\n",
      " 8   critic_score     8137 non-null   float64\n",
      " 9   user_score       7590 non-null   float64\n",
      " 10  rating           9949 non-null   object \n",
      "dtypes: float64(7), object(4)\n",
      "memory usage: 1.4+ MB\n"
     ]
    },
    {
     "data": {
      "text/plain": [
       "None"
      ]
     },
     "metadata": {},
     "output_type": "display_data"
    }
   ],
   "source": [
    "df['user_score'] = pd.to_numeric(df['user_score'], errors='coerce')\n",
    "display(df.info())"
   ]
  },
  {
   "cell_type": "markdown",
   "metadata": {},
   "source": [
    "<div class=\"alert alert-success\">\n",
    "<h2> Комментарий ревьюера </h2>\n",
    "\n",
    "Верно, по своей сути tbd и является Nan. Отлично, что определяешь неявные пропущенные значения.\n",
    "\n",
    "</div>"
   ]
  },
  {
   "cell_type": "markdown",
   "metadata": {},
   "source": [
    "Кроме того данным по году выпуска игры логичнее стать целочисленными"
   ]
  },
  {
   "cell_type": "code",
   "execution_count": 11,
   "metadata": {
    "scrolled": true
   },
   "outputs": [],
   "source": [
    "# df['year_of_release'] = df['year_of_release'].astype('int')"
   ]
  },
  {
   "cell_type": "markdown",
   "metadata": {},
   "source": [
    "Выявлена ошибка:\n",
    "\n",
    "ValueError: Cannot convert non-finite values (NA or inf) to integer\n",
    "\n",
    "Оказывается, пропущенные данные нельзя привести к целочисленным. Возможно, стоит вернуться поискать инсайты: некоторые игры имеют год в названии - можно принять его за год издания; некоторые игры изданы на разных платформах - можно заполнить пропуски медианным значениями. А может быть надо копать глубже - некоторые платформы появились не так давно и наличие аналогичной игры в 1985 году нам ничем не поможет.\n",
    "На данный пропуски составляют 1,6%. Не мало, но и не критично.\n",
    "\n",
    "<b>upd:</b> Вернулись сюда после анализа популярных платформ за последние 5 лет. Заполнять пропущенные значения по годам корректнее всего из медианного значения по выпуску игр на конкретной платформе. Проверим, по каким платформам данные по году выпуска пропущены"
   ]
  },
  {
   "cell_type": "code",
   "execution_count": 12,
   "metadata": {},
   "outputs": [
    {
     "data": {
      "text/html": [
       "<div>\n",
       "<style scoped>\n",
       "    .dataframe tbody tr th:only-of-type {\n",
       "        vertical-align: middle;\n",
       "    }\n",
       "\n",
       "    .dataframe tbody tr th {\n",
       "        vertical-align: top;\n",
       "    }\n",
       "\n",
       "    .dataframe thead th {\n",
       "        text-align: right;\n",
       "    }\n",
       "</style>\n",
       "<table border=\"1\" class=\"dataframe\">\n",
       "  <thead>\n",
       "    <tr style=\"text-align: right;\">\n",
       "      <th></th>\n",
       "      <th>name</th>\n",
       "      <th>year_of_release</th>\n",
       "      <th>genre</th>\n",
       "      <th>na_sales</th>\n",
       "      <th>eu_sales</th>\n",
       "      <th>jp_sales</th>\n",
       "      <th>other_sales</th>\n",
       "      <th>critic_score</th>\n",
       "      <th>user_score</th>\n",
       "      <th>rating</th>\n",
       "    </tr>\n",
       "    <tr>\n",
       "      <th>platform</th>\n",
       "      <th></th>\n",
       "      <th></th>\n",
       "      <th></th>\n",
       "      <th></th>\n",
       "      <th></th>\n",
       "      <th></th>\n",
       "      <th></th>\n",
       "      <th></th>\n",
       "      <th></th>\n",
       "      <th></th>\n",
       "    </tr>\n",
       "  </thead>\n",
       "  <tbody>\n",
       "    <tr>\n",
       "      <th>PS2</th>\n",
       "      <td>34</td>\n",
       "      <td>0</td>\n",
       "      <td>34</td>\n",
       "      <td>34</td>\n",
       "      <td>34</td>\n",
       "      <td>34</td>\n",
       "      <td>34</td>\n",
       "      <td>23</td>\n",
       "      <td>21</td>\n",
       "      <td>25</td>\n",
       "    </tr>\n",
       "    <tr>\n",
       "      <th>Wii</th>\n",
       "      <td>34</td>\n",
       "      <td>0</td>\n",
       "      <td>34</td>\n",
       "      <td>34</td>\n",
       "      <td>34</td>\n",
       "      <td>34</td>\n",
       "      <td>34</td>\n",
       "      <td>17</td>\n",
       "      <td>12</td>\n",
       "      <td>25</td>\n",
       "    </tr>\n",
       "    <tr>\n",
       "      <th>DS</th>\n",
       "      <td>30</td>\n",
       "      <td>0</td>\n",
       "      <td>30</td>\n",
       "      <td>30</td>\n",
       "      <td>30</td>\n",
       "      <td>30</td>\n",
       "      <td>30</td>\n",
       "      <td>9</td>\n",
       "      <td>4</td>\n",
       "      <td>18</td>\n",
       "    </tr>\n",
       "    <tr>\n",
       "      <th>X360</th>\n",
       "      <td>30</td>\n",
       "      <td>0</td>\n",
       "      <td>30</td>\n",
       "      <td>30</td>\n",
       "      <td>30</td>\n",
       "      <td>30</td>\n",
       "      <td>30</td>\n",
       "      <td>22</td>\n",
       "      <td>21</td>\n",
       "      <td>22</td>\n",
       "    </tr>\n",
       "    <tr>\n",
       "      <th>PS3</th>\n",
       "      <td>25</td>\n",
       "      <td>0</td>\n",
       "      <td>25</td>\n",
       "      <td>25</td>\n",
       "      <td>25</td>\n",
       "      <td>25</td>\n",
       "      <td>25</td>\n",
       "      <td>16</td>\n",
       "      <td>16</td>\n",
       "      <td>17</td>\n",
       "    </tr>\n",
       "    <tr>\n",
       "      <th>XB</th>\n",
       "      <td>21</td>\n",
       "      <td>0</td>\n",
       "      <td>21</td>\n",
       "      <td>21</td>\n",
       "      <td>21</td>\n",
       "      <td>21</td>\n",
       "      <td>21</td>\n",
       "      <td>19</td>\n",
       "      <td>15</td>\n",
       "      <td>19</td>\n",
       "    </tr>\n",
       "    <tr>\n",
       "      <th>2600</th>\n",
       "      <td>17</td>\n",
       "      <td>0</td>\n",
       "      <td>17</td>\n",
       "      <td>17</td>\n",
       "      <td>17</td>\n",
       "      <td>17</td>\n",
       "      <td>17</td>\n",
       "      <td>0</td>\n",
       "      <td>0</td>\n",
       "      <td>0</td>\n",
       "    </tr>\n",
       "    <tr>\n",
       "      <th>PC</th>\n",
       "      <td>17</td>\n",
       "      <td>0</td>\n",
       "      <td>17</td>\n",
       "      <td>17</td>\n",
       "      <td>17</td>\n",
       "      <td>17</td>\n",
       "      <td>17</td>\n",
       "      <td>16</td>\n",
       "      <td>15</td>\n",
       "      <td>17</td>\n",
       "    </tr>\n",
       "    <tr>\n",
       "      <th>PSP</th>\n",
       "      <td>16</td>\n",
       "      <td>0</td>\n",
       "      <td>16</td>\n",
       "      <td>16</td>\n",
       "      <td>16</td>\n",
       "      <td>16</td>\n",
       "      <td>16</td>\n",
       "      <td>6</td>\n",
       "      <td>3</td>\n",
       "      <td>8</td>\n",
       "    </tr>\n",
       "    <tr>\n",
       "      <th>GC</th>\n",
       "      <td>14</td>\n",
       "      <td>0</td>\n",
       "      <td>14</td>\n",
       "      <td>14</td>\n",
       "      <td>14</td>\n",
       "      <td>14</td>\n",
       "      <td>14</td>\n",
       "      <td>11</td>\n",
       "      <td>9</td>\n",
       "      <td>12</td>\n",
       "    </tr>\n",
       "    <tr>\n",
       "      <th>GBA</th>\n",
       "      <td>11</td>\n",
       "      <td>0</td>\n",
       "      <td>11</td>\n",
       "      <td>11</td>\n",
       "      <td>11</td>\n",
       "      <td>11</td>\n",
       "      <td>11</td>\n",
       "      <td>8</td>\n",
       "      <td>4</td>\n",
       "      <td>8</td>\n",
       "    </tr>\n",
       "    <tr>\n",
       "      <th>3DS</th>\n",
       "      <td>8</td>\n",
       "      <td>0</td>\n",
       "      <td>8</td>\n",
       "      <td>8</td>\n",
       "      <td>8</td>\n",
       "      <td>8</td>\n",
       "      <td>8</td>\n",
       "      <td>2</td>\n",
       "      <td>3</td>\n",
       "      <td>5</td>\n",
       "    </tr>\n",
       "    <tr>\n",
       "      <th>PS</th>\n",
       "      <td>7</td>\n",
       "      <td>0</td>\n",
       "      <td>7</td>\n",
       "      <td>7</td>\n",
       "      <td>7</td>\n",
       "      <td>7</td>\n",
       "      <td>7</td>\n",
       "      <td>4</td>\n",
       "      <td>3</td>\n",
       "      <td>4</td>\n",
       "    </tr>\n",
       "    <tr>\n",
       "      <th>N64</th>\n",
       "      <td>3</td>\n",
       "      <td>0</td>\n",
       "      <td>3</td>\n",
       "      <td>3</td>\n",
       "      <td>3</td>\n",
       "      <td>3</td>\n",
       "      <td>3</td>\n",
       "      <td>0</td>\n",
       "      <td>0</td>\n",
       "      <td>0</td>\n",
       "    </tr>\n",
       "    <tr>\n",
       "      <th>GB</th>\n",
       "      <td>1</td>\n",
       "      <td>0</td>\n",
       "      <td>1</td>\n",
       "      <td>1</td>\n",
       "      <td>1</td>\n",
       "      <td>1</td>\n",
       "      <td>1</td>\n",
       "      <td>0</td>\n",
       "      <td>0</td>\n",
       "      <td>0</td>\n",
       "    </tr>\n",
       "    <tr>\n",
       "      <th>PSV</th>\n",
       "      <td>1</td>\n",
       "      <td>0</td>\n",
       "      <td>1</td>\n",
       "      <td>1</td>\n",
       "      <td>1</td>\n",
       "      <td>1</td>\n",
       "      <td>1</td>\n",
       "      <td>1</td>\n",
       "      <td>1</td>\n",
       "      <td>1</td>\n",
       "    </tr>\n",
       "  </tbody>\n",
       "</table>\n",
       "</div>"
      ],
      "text/plain": [
       "          name  year_of_release  genre  na_sales  eu_sales  jp_sales  \\\n",
       "platform                                                               \n",
       "PS2         34                0     34        34        34        34   \n",
       "Wii         34                0     34        34        34        34   \n",
       "DS          30                0     30        30        30        30   \n",
       "X360        30                0     30        30        30        30   \n",
       "PS3         25                0     25        25        25        25   \n",
       "XB          21                0     21        21        21        21   \n",
       "2600        17                0     17        17        17        17   \n",
       "PC          17                0     17        17        17        17   \n",
       "PSP         16                0     16        16        16        16   \n",
       "GC          14                0     14        14        14        14   \n",
       "GBA         11                0     11        11        11        11   \n",
       "3DS          8                0      8         8         8         8   \n",
       "PS           7                0      7         7         7         7   \n",
       "N64          3                0      3         3         3         3   \n",
       "GB           1                0      1         1         1         1   \n",
       "PSV          1                0      1         1         1         1   \n",
       "\n",
       "          other_sales  critic_score  user_score  rating  \n",
       "platform                                                 \n",
       "PS2                34            23          21      25  \n",
       "Wii                34            17          12      25  \n",
       "DS                 30             9           4      18  \n",
       "X360               30            22          21      22  \n",
       "PS3                25            16          16      17  \n",
       "XB                 21            19          15      19  \n",
       "2600               17             0           0       0  \n",
       "PC                 17            16          15      17  \n",
       "PSP                16             6           3       8  \n",
       "GC                 14            11           9      12  \n",
       "GBA                11             8           4       8  \n",
       "3DS                 8             2           3       5  \n",
       "PS                  7             4           3       4  \n",
       "N64                 3             0           0       0  \n",
       "GB                  1             0           0       0  \n",
       "PSV                 1             1           1       1  "
      ]
     },
     "execution_count": 12,
     "metadata": {},
     "output_type": "execute_result"
    }
   ],
   "source": [
    "df[df['year_of_release'].isna() == True].groupby('platform').count().sort_values('name', ascending=False)"
   ]
  },
  {
   "cell_type": "markdown",
   "metadata": {},
   "source": [
    "Платформы PS3, X360 - то, что нужно. Заполним пропуски по годам как предложили ранее."
   ]
  },
  {
   "cell_type": "code",
   "execution_count": 13,
   "metadata": {},
   "outputs": [
    {
     "name": "stdout",
     "output_type": "stream",
     "text": [
      "<class 'pandas.core.frame.DataFrame'>\n",
      "RangeIndex: 16713 entries, 0 to 16712\n",
      "Data columns (total 11 columns):\n",
      " #   Column           Non-Null Count  Dtype  \n",
      "---  ------           --------------  -----  \n",
      " 0   name             16713 non-null  object \n",
      " 1   platform         16713 non-null  object \n",
      " 2   year_of_release  16713 non-null  int32  \n",
      " 3   genre            16713 non-null  object \n",
      " 4   na_sales         16713 non-null  float64\n",
      " 5   eu_sales         16713 non-null  float64\n",
      " 6   jp_sales         16713 non-null  float64\n",
      " 7   other_sales      16713 non-null  float64\n",
      " 8   critic_score     8137 non-null   float64\n",
      " 9   user_score       7590 non-null   float64\n",
      " 10  rating           9949 non-null   object \n",
      "dtypes: float64(6), int32(1), object(4)\n",
      "memory usage: 1.3+ MB\n"
     ]
    },
    {
     "data": {
      "text/plain": [
       "None"
      ]
     },
     "metadata": {},
     "output_type": "display_data"
    }
   ],
   "source": [
    "i = 0\n",
    "for name in df['name']:\n",
    "    if pd.isna(df.loc[i, 'year_of_release']):\n",
    "        df.loc[i, 'year_of_release'] = df[df['platform'] == df.loc[i, 'platform']]['year_of_release'].median()\n",
    "    i +=1\n",
    "df['year_of_release'] = df['year_of_release'].astype(int)\n",
    "display(df.info())"
   ]
  },
  {
   "cell_type": "markdown",
   "metadata": {},
   "source": [
    "<div class=\"alert alert-success\">\n",
    "<h2> Комментарий ревьюера </h2>\n",
    "\n",
    "Да, пропуски таким образом мы можем обработать. Тем более их не так много, поэтому заполнение пропусков не скажется на результатах анализа. \n",
    "\n",
    "</div>"
   ]
  },
  {
   "cell_type": "code",
   "execution_count": 14,
   "metadata": {},
   "outputs": [
    {
     "name": "stdout",
     "output_type": "stream",
     "text": [
      "2805\n"
     ]
    }
   ],
   "source": [
    "df_name_group = df.groupby('name').count()[df.groupby('name').count()['platform'] > 1]\n",
    "print(len(df_name_group))"
   ]
  },
  {
   "cell_type": "markdown",
   "metadata": {},
   "source": [
    "Сгруппировав датасет по играм, выпущенным более чем на одной платформе, обнаружен интересный факт. Таких игр 2805, а значит около 16,8% строк имеют связь как минимум с еще 16,8% датасета. Попробуем найти полезную информацию для заполнения пропущенных строк."
   ]
  },
  {
   "cell_type": "code",
   "execution_count": 15,
   "metadata": {},
   "outputs": [
    {
     "data": {
      "text/html": [
       "<div>\n",
       "<style scoped>\n",
       "    .dataframe tbody tr th:only-of-type {\n",
       "        vertical-align: middle;\n",
       "    }\n",
       "\n",
       "    .dataframe tbody tr th {\n",
       "        vertical-align: top;\n",
       "    }\n",
       "\n",
       "    .dataframe thead th {\n",
       "        text-align: right;\n",
       "    }\n",
       "</style>\n",
       "<table border=\"1\" class=\"dataframe\">\n",
       "  <thead>\n",
       "    <tr style=\"text-align: right;\">\n",
       "      <th></th>\n",
       "      <th>platform</th>\n",
       "      <th>year_of_release</th>\n",
       "      <th>genre</th>\n",
       "      <th>na_sales</th>\n",
       "      <th>eu_sales</th>\n",
       "      <th>jp_sales</th>\n",
       "      <th>other_sales</th>\n",
       "      <th>critic_score</th>\n",
       "      <th>user_score</th>\n",
       "      <th>rating</th>\n",
       "    </tr>\n",
       "    <tr>\n",
       "      <th>name</th>\n",
       "      <th></th>\n",
       "      <th></th>\n",
       "      <th></th>\n",
       "      <th></th>\n",
       "      <th></th>\n",
       "      <th></th>\n",
       "      <th></th>\n",
       "      <th></th>\n",
       "      <th></th>\n",
       "      <th></th>\n",
       "    </tr>\n",
       "  </thead>\n",
       "  <tbody>\n",
       "    <tr>\n",
       "      <th>Need for Speed: Most Wanted</th>\n",
       "      <td>12</td>\n",
       "      <td>12</td>\n",
       "      <td>12</td>\n",
       "      <td>12</td>\n",
       "      <td>12</td>\n",
       "      <td>12</td>\n",
       "      <td>12</td>\n",
       "      <td>8</td>\n",
       "      <td>9</td>\n",
       "      <td>9</td>\n",
       "    </tr>\n",
       "    <tr>\n",
       "      <th>FIFA 14</th>\n",
       "      <td>9</td>\n",
       "      <td>9</td>\n",
       "      <td>9</td>\n",
       "      <td>9</td>\n",
       "      <td>9</td>\n",
       "      <td>9</td>\n",
       "      <td>9</td>\n",
       "      <td>5</td>\n",
       "      <td>8</td>\n",
       "      <td>8</td>\n",
       "    </tr>\n",
       "    <tr>\n",
       "      <th>LEGO Marvel Super Heroes</th>\n",
       "      <td>9</td>\n",
       "      <td>9</td>\n",
       "      <td>9</td>\n",
       "      <td>9</td>\n",
       "      <td>9</td>\n",
       "      <td>9</td>\n",
       "      <td>9</td>\n",
       "      <td>6</td>\n",
       "      <td>8</td>\n",
       "      <td>8</td>\n",
       "    </tr>\n",
       "    <tr>\n",
       "      <th>Ratatouille</th>\n",
       "      <td>9</td>\n",
       "      <td>9</td>\n",
       "      <td>9</td>\n",
       "      <td>9</td>\n",
       "      <td>9</td>\n",
       "      <td>9</td>\n",
       "      <td>9</td>\n",
       "      <td>7</td>\n",
       "      <td>6</td>\n",
       "      <td>8</td>\n",
       "    </tr>\n",
       "    <tr>\n",
       "      <th>Monopoly</th>\n",
       "      <td>8</td>\n",
       "      <td>8</td>\n",
       "      <td>8</td>\n",
       "      <td>8</td>\n",
       "      <td>8</td>\n",
       "      <td>8</td>\n",
       "      <td>8</td>\n",
       "      <td>3</td>\n",
       "      <td>4</td>\n",
       "      <td>4</td>\n",
       "    </tr>\n",
       "  </tbody>\n",
       "</table>\n",
       "</div>"
      ],
      "text/plain": [
       "                             platform  year_of_release  genre  na_sales  \\\n",
       "name                                                                      \n",
       "Need for Speed: Most Wanted        12               12     12        12   \n",
       "FIFA 14                             9                9      9         9   \n",
       "LEGO Marvel Super Heroes            9                9      9         9   \n",
       "Ratatouille                         9                9      9         9   \n",
       "Monopoly                            8                8      8         8   \n",
       "\n",
       "                             eu_sales  jp_sales  other_sales  critic_score  \\\n",
       "name                                                                         \n",
       "Need for Speed: Most Wanted        12        12           12             8   \n",
       "FIFA 14                             9         9            9             5   \n",
       "LEGO Marvel Super Heroes            9         9            9             6   \n",
       "Ratatouille                         9         9            9             7   \n",
       "Monopoly                            8         8            8             3   \n",
       "\n",
       "                             user_score  rating  \n",
       "name                                             \n",
       "Need for Speed: Most Wanted           9       9  \n",
       "FIFA 14                               8       8  \n",
       "LEGO Marvel Super Heroes              8       8  \n",
       "Ratatouille                           6       8  \n",
       "Monopoly                              4       4  "
      ]
     },
     "metadata": {},
     "output_type": "display_data"
    },
    {
     "name": "stdout",
     "output_type": "stream",
     "text": [
      "Всего строк: 767\n"
     ]
    }
   ],
   "source": [
    "display(df_name_group[(df_name_group['user_score'] > 0) & (df_name_group['user_score'] < df_name_group['platform'])].sort_values('platform', ascending = False).head())\n",
    "print('Всего строк:', len(df_name_group[(df_name_group['user_score'] > 0) & (df_name_group['user_score'] < df_name_group['platform'])].sort_values('platform', ascending = False)))"
   ]
  },
  {
   "cell_type": "markdown",
   "metadata": {},
   "source": [
    "Что ж, у нас 767 игр выпущены на нескольких платформах и имеют пропуски в самом пустом столбце - user_score. Проверим, сильно ли различны оценка на разных платформах"
   ]
  },
  {
   "cell_type": "code",
   "execution_count": 16,
   "metadata": {},
   "outputs": [
    {
     "name": "stdout",
     "output_type": "stream",
     "text": [
      "count    9.000000\n",
      "mean     8.377778\n",
      "std      0.899691\n",
      "min      6.100000\n",
      "25%      8.500000\n",
      "50%      8.500000\n",
      "75%      8.800000\n",
      "max      9.100000\n",
      "Name: user_score, dtype: float64\n",
      "count    8.000000\n",
      "mean     4.337500\n",
      "std      1.383513\n",
      "min      1.800000\n",
      "25%      4.000000\n",
      "50%      4.300000\n",
      "75%      4.900000\n",
      "max      6.300000\n",
      "Name: user_score, dtype: float64\n",
      "count    8.000000\n",
      "mean     7.012500\n",
      "std      1.308693\n",
      "min      4.800000\n",
      "25%      6.400000\n",
      "50%      7.650000\n",
      "75%      7.925000\n",
      "max      8.100000\n",
      "Name: user_score, dtype: float64\n",
      "count    6.000000\n",
      "mean     6.683333\n",
      "std      1.273447\n",
      "min      4.800000\n",
      "25%      5.875000\n",
      "50%      6.900000\n",
      "75%      7.700000\n",
      "max      8.000000\n",
      "Name: user_score, dtype: float64\n"
     ]
    }
   ],
   "source": [
    "print(df[df['name'] == 'Need for Speed: Most Wanted']['user_score'].describe())\n",
    "print(df[df['name'] == 'FIFA 14']['user_score'].describe())\n",
    "print(df[df['name'] == 'LEGO Marvel Super Heroes']['user_score'].describe())\n",
    "print(df[df['name'] == 'Ratatouille']['user_score'].describe())"
   ]
  },
  {
   "cell_type": "markdown",
   "metadata": {},
   "source": [
    "Как видно, оценки пользователей весьма разнятся на разных платформах. Будем заполнять пропуски в оценках медианным значениям из полученных мини-сетов по играм.\n",
    "\n",
    "Воспользуемся этим инсайтом также для поиска пропущенных значений возрастного рейтинга."
   ]
  },
  {
   "cell_type": "code",
   "execution_count": 17,
   "metadata": {},
   "outputs": [
    {
     "name": "stdout",
     "output_type": "stream",
     "text": [
      "<class 'pandas.core.frame.DataFrame'>\n",
      "RangeIndex: 16713 entries, 0 to 16712\n",
      "Data columns (total 11 columns):\n",
      " #   Column           Non-Null Count  Dtype  \n",
      "---  ------           --------------  -----  \n",
      " 0   name             16713 non-null  object \n",
      " 1   platform         16713 non-null  object \n",
      " 2   year_of_release  16713 non-null  int32  \n",
      " 3   genre            16713 non-null  object \n",
      " 4   na_sales         16713 non-null  float64\n",
      " 5   eu_sales         16713 non-null  float64\n",
      " 6   jp_sales         16713 non-null  float64\n",
      " 7   other_sales      16713 non-null  float64\n",
      " 8   critic_score     9098 non-null   float64\n",
      " 9   user_score       8689 non-null   float64\n",
      " 10  rating           9949 non-null   object \n",
      "dtypes: float64(6), int32(1), object(4)\n",
      "memory usage: 1.3+ MB\n"
     ]
    },
    {
     "data": {
      "text/plain": [
       "None"
      ]
     },
     "metadata": {},
     "output_type": "display_data"
    }
   ],
   "source": [
    "i = 0\n",
    "for name in df['name']:\n",
    "    if (pd.isna(df.loc[i, 'user_score'])) &  (name in df_name_group.index):\n",
    "        df.loc[i, 'user_score'] = df[df['name'] == name]['user_score'].median()\n",
    "    i +=1\n",
    "\n",
    "i = 0\n",
    "for name in df['name']:\n",
    "    if (pd.isna(df.loc[i, 'critic_score'])) &  (name in df_name_group.index):\n",
    "        df.loc[i, 'critic_score'] = df[df['name'] == name]['critic_score'].median()\n",
    "    i +=1\n",
    "\n",
    "i = 0\n",
    "for name in df['rating']:\n",
    "    if (pd.isna(df.loc[i, 'rating'])) &  (name in df_name_group.index):\n",
    "        df.loc[i, 'rating'] = df[df['name'] == name]['rating'].median()\n",
    "    i +=1\n",
    "    \n",
    "display(df.info())"
   ]
  },
  {
   "cell_type": "markdown",
   "metadata": {},
   "source": [
    "<div class=\"alert alert-success\">\n",
    "<h2> Комментарий ревьюера </h2>\n",
    "\n",
    "С предупреждениями также стоит разобраться. Иногда их бывает слишком много, поэтому важно уметь их скрывать. В этом тебе поможет библиотека warnings. Попробуй найти подходящий метод и убрать предупреждения.  \n",
    "   \n",
    "<h2> Ответ </h2>\n",
    "        \n",
    "Добавил в ячейку 1 кусок кода:\n",
    "import warnings\n",
    "warnings.filterwarnings(\"ignore\")\n",
    "Предупреждения теперь сидят тихо)\n",
    "\n",
    "</div>"
   ]
  },
  {
   "cell_type": "markdown",
   "metadata": {},
   "source": [
    "<div class=\"alert alert-success\">\n",
    "<h2> Комментарий ревьюера 2</h2>\n",
    "\n",
    "Все верно. Именно такой способ помогает скрыть все предупреждения.  \n",
    "\n",
    "</div>"
   ]
  },
  {
   "cell_type": "markdown",
   "metadata": {},
   "source": [
    "<h3>Посчитайте суммарные продажи во всех регионах и запишите их в отдельный столбец</h3>\n",
    "\n",
    "Запишем их в столбец sum_sales"
   ]
  },
  {
   "cell_type": "code",
   "execution_count": 18,
   "metadata": {},
   "outputs": [
    {
     "data": {
      "text/html": [
       "<div>\n",
       "<style scoped>\n",
       "    .dataframe tbody tr th:only-of-type {\n",
       "        vertical-align: middle;\n",
       "    }\n",
       "\n",
       "    .dataframe tbody tr th {\n",
       "        vertical-align: top;\n",
       "    }\n",
       "\n",
       "    .dataframe thead th {\n",
       "        text-align: right;\n",
       "    }\n",
       "</style>\n",
       "<table border=\"1\" class=\"dataframe\">\n",
       "  <thead>\n",
       "    <tr style=\"text-align: right;\">\n",
       "      <th></th>\n",
       "      <th>name</th>\n",
       "      <th>platform</th>\n",
       "      <th>year_of_release</th>\n",
       "      <th>genre</th>\n",
       "      <th>na_sales</th>\n",
       "      <th>eu_sales</th>\n",
       "      <th>jp_sales</th>\n",
       "      <th>other_sales</th>\n",
       "      <th>critic_score</th>\n",
       "      <th>user_score</th>\n",
       "      <th>rating</th>\n",
       "      <th>sum_sales</th>\n",
       "    </tr>\n",
       "  </thead>\n",
       "  <tbody>\n",
       "    <tr>\n",
       "      <th>0</th>\n",
       "      <td>Wii Sports</td>\n",
       "      <td>Wii</td>\n",
       "      <td>2006</td>\n",
       "      <td>Sports</td>\n",
       "      <td>41.36</td>\n",
       "      <td>28.96</td>\n",
       "      <td>3.77</td>\n",
       "      <td>8.45</td>\n",
       "      <td>76.0</td>\n",
       "      <td>8.0</td>\n",
       "      <td>E</td>\n",
       "      <td>74.09</td>\n",
       "    </tr>\n",
       "    <tr>\n",
       "      <th>1</th>\n",
       "      <td>Super Mario Bros.</td>\n",
       "      <td>NES</td>\n",
       "      <td>1985</td>\n",
       "      <td>Platform</td>\n",
       "      <td>29.08</td>\n",
       "      <td>3.58</td>\n",
       "      <td>6.81</td>\n",
       "      <td>0.77</td>\n",
       "      <td>NaN</td>\n",
       "      <td>NaN</td>\n",
       "      <td>NaN</td>\n",
       "      <td>39.47</td>\n",
       "    </tr>\n",
       "    <tr>\n",
       "      <th>2</th>\n",
       "      <td>Mario Kart Wii</td>\n",
       "      <td>Wii</td>\n",
       "      <td>2008</td>\n",
       "      <td>Racing</td>\n",
       "      <td>15.68</td>\n",
       "      <td>12.76</td>\n",
       "      <td>3.79</td>\n",
       "      <td>3.29</td>\n",
       "      <td>82.0</td>\n",
       "      <td>8.3</td>\n",
       "      <td>E</td>\n",
       "      <td>32.23</td>\n",
       "    </tr>\n",
       "    <tr>\n",
       "      <th>3</th>\n",
       "      <td>Wii Sports Resort</td>\n",
       "      <td>Wii</td>\n",
       "      <td>2009</td>\n",
       "      <td>Sports</td>\n",
       "      <td>15.61</td>\n",
       "      <td>10.93</td>\n",
       "      <td>3.28</td>\n",
       "      <td>2.95</td>\n",
       "      <td>80.0</td>\n",
       "      <td>8.0</td>\n",
       "      <td>E</td>\n",
       "      <td>29.82</td>\n",
       "    </tr>\n",
       "    <tr>\n",
       "      <th>4</th>\n",
       "      <td>Pokemon Red/Pokemon Blue</td>\n",
       "      <td>GB</td>\n",
       "      <td>1996</td>\n",
       "      <td>Role-Playing</td>\n",
       "      <td>11.27</td>\n",
       "      <td>8.89</td>\n",
       "      <td>10.22</td>\n",
       "      <td>1.00</td>\n",
       "      <td>NaN</td>\n",
       "      <td>NaN</td>\n",
       "      <td>NaN</td>\n",
       "      <td>30.38</td>\n",
       "    </tr>\n",
       "  </tbody>\n",
       "</table>\n",
       "</div>"
      ],
      "text/plain": [
       "                       name platform  year_of_release         genre  na_sales  \\\n",
       "0                Wii Sports      Wii             2006        Sports     41.36   \n",
       "1         Super Mario Bros.      NES             1985      Platform     29.08   \n",
       "2            Mario Kart Wii      Wii             2008        Racing     15.68   \n",
       "3         Wii Sports Resort      Wii             2009        Sports     15.61   \n",
       "4  Pokemon Red/Pokemon Blue       GB             1996  Role-Playing     11.27   \n",
       "\n",
       "   eu_sales  jp_sales  other_sales  critic_score  user_score rating  sum_sales  \n",
       "0     28.96      3.77         8.45          76.0         8.0      E      74.09  \n",
       "1      3.58      6.81         0.77           NaN         NaN    NaN      39.47  \n",
       "2     12.76      3.79         3.29          82.0         8.3      E      32.23  \n",
       "3     10.93      3.28         2.95          80.0         8.0      E      29.82  \n",
       "4      8.89     10.22         1.00           NaN         NaN    NaN      30.38  "
      ]
     },
     "metadata": {},
     "output_type": "display_data"
    }
   ],
   "source": [
    "df['sum_sales'] = df['na_sales'] + df['eu_sales'] + df['jp_sales']\n",
    "display(df.head())"
   ]
  },
  {
   "cell_type": "markdown",
   "metadata": {},
   "source": [
    "<h2>Выводы по шагу 3</h2>\n",
    "\n",
    "Данные по 7 столбцам из 10 заполнены насколько это было возможно при первичном рассмотрении, отсутствующие данные (менее 0,012%) исключены. Данные по оценкам заполнены исходя из оценок по конкретной игре на других платформах. Для заполнениея оставшихся пропусков на текущий момент нет хороших предположений. Основной показатель на данный момент - суммарные продажи, сведены в отдельный столбец sum_sales"
   ]
  },
  {
   "cell_type": "markdown",
   "metadata": {},
   "source": [
    "<div class=\"alert alert-success\">\n",
    "<h2> Комментарий ревьюера </h2>\n",
    "\n",
    "Да, восстановить все пропущенные значения мы не можем. Данных для этого недостаточно. Лучше работать с меньшим количеством данных хорошего качества.\n",
    "    \n",
    "Ошибки в данных устранены. Данные подготовлены к дальнейшему анализу. \n",
    "\n",
    "</div>"
   ]
  },
  {
   "cell_type": "markdown",
   "metadata": {},
   "source": [
    "<a id='step4'></a><h2>Шаг 4. Проведите исследовательский анализ данных</h2>\n",
    "\n",
    "<h3>Посмотрите, сколько игр выпускалось в разные годы. Важны ли данные за все периоды?</h3>"
   ]
  },
  {
   "cell_type": "code",
   "execution_count": 19,
   "metadata": {},
   "outputs": [
    {
     "data": {
      "text/plain": [
       "year_of_release\n",
       "1980       9\n",
       "1981      46\n",
       "1982      53\n",
       "1983      17\n",
       "1984      14\n",
       "1985      14\n",
       "1986      21\n",
       "1987      16\n",
       "1988      15\n",
       "1989      17\n",
       "1990      16\n",
       "1991      41\n",
       "1992      43\n",
       "1993      60\n",
       "1994     121\n",
       "1995     219\n",
       "1996     263\n",
       "1997     290\n",
       "1998     386\n",
       "1999     341\n",
       "2000     350\n",
       "2001     482\n",
       "2002     829\n",
       "2003     800\n",
       "2004     783\n",
       "2005     973\n",
       "2006    1006\n",
       "2007    1197\n",
       "2008    1457\n",
       "2009    1476\n",
       "2010    1302\n",
       "2011    1161\n",
       "2012     653\n",
       "2013     552\n",
       "2014     582\n",
       "2015     606\n",
       "2016     502\n",
       "Name: name, dtype: int64"
      ]
     },
     "metadata": {},
     "output_type": "display_data"
    }
   ],
   "source": [
    "df_by_year = df.groupby('year_of_release')['name'].count()\n",
    "display(df_by_year)"
   ]
  },
  {
   "cell_type": "code",
   "execution_count": 20,
   "metadata": {},
   "outputs": [
    {
     "data": {
      "text/plain": [
       "<matplotlib.axes._subplots.AxesSubplot at 0xb64daf0>"
      ]
     },
     "execution_count": 20,
     "metadata": {},
     "output_type": "execute_result"
    },
    {
     "data": {
      "image/png": "[encoded data removed]",
      "text/plain": [
       "<Figure size 432x288 with 1 Axes>"
      ]
     },
     "metadata": {
      "needs_background": "light"
     },
     "output_type": "display_data"
    }
   ],
   "source": [
    "df_by_year.plot(style='o-', grid=True)"
   ]
  },
  {
   "cell_type": "markdown",
   "metadata": {},
   "source": [
    "По графику выпуска игр в разные года можно выделить, что после 2001 года выпускалось не менее 500 игр ежегодно. В период с 2006 по 2011 года ежегодно выпускалось более 1000 игр с пиком в 2008 и 2009 годах. \n",
    "\n",
    "Последние 5 лет выпуск игр более-менее стабилен и составляет около 500 игр ежегодно.\n",
    "\n",
    "<b>upd.</b>Возможно, спад выхода компьютерных игры в начале 2010-х связан с рывком в развитии мобильных гаджетов и появлением мобильных игры.\n",
    "\n",
    "В 2016 самый низкий выпуск игр, сравнимый с 2001 годом. Возможно, неполнота данных за 2016 год сильно искажает закономерности. Будем это учитывать.\n",
    "\n",
    "Игровая индустрия развивается стремительно. Предположим, что для адекватного прогноза на 2017 год нам достаточно выборки за последние 5 лет."
   ]
  },
  {
   "cell_type": "markdown",
   "metadata": {},
   "source": [
    "<div class=\"alert alert-success\">\n",
    "<h2> Комментарий ревьюера </h2>\n",
    "\n",
    "Как думаешь, с чем связан спад в индустрии последних лет?\n",
    "    \n",
    "<h2> Ответ </h2>\n",
    "\n",
    "Добавил обновление в вывод. Если честно, думал что предоставленные данные не совсем реальные)\n",
    "\n",
    "</div>"
   ]
  },
  {
   "cell_type": "markdown",
   "metadata": {},
   "source": [
    "<div class=\"alert alert-success\">\n",
    "<h2> Комментарий ревьюера 2</h2>\n",
    "\n",
    "Вполне реальное предположение. С большой долей вероятности так и есть.\n",
    "\n",
    "</div>"
   ]
  },
  {
   "cell_type": "markdown",
   "metadata": {},
   "source": [
    "<h3>Посмотрите, как менялись продажи по платформам</h3>"
   ]
  },
  {
   "cell_type": "code",
   "execution_count": 21,
   "metadata": {},
   "outputs": [
    {
     "data": {
      "text/plain": [
       "platform\n",
       "PS2     1062.33\n",
       "X360     885.66\n",
       "Wii      828.44\n",
       "PS3      803.97\n",
       "DS       746.86\n",
       "PS       689.95\n",
       "GBA      310.12\n",
       "PS4      265.79\n",
       "Name: sum_sales, dtype: float64"
      ]
     },
     "metadata": {},
     "output_type": "display_data"
    }
   ],
   "source": [
    "# Сгруппировали данные по платформам и отсортировали в порядке убывания суммарных продаж за все года\n",
    "df_sales_by_platform = df.groupby('platform')['sum_sales'].sum().sort_values(ascending=False)\n",
    "# Выделим платформы с наибольшими суммарными продажами, отсортировав данные по платформам по третьему квантилю сумме продаж\n",
    "top_sales_by_platform = df_sales_by_platform[df_sales_by_platform > df_sales_by_platform.quantile(0.75)]\n",
    "display(top_sales_by_platform)"
   ]
  },
  {
   "cell_type": "code",
   "execution_count": 22,
   "metadata": {},
   "outputs": [
    {
     "name": "stdout",
     "output_type": "stream",
     "text": [
      "AxesSubplot(0.125,0.125;0.775x0.755)\n",
      "AxesSubplot(0.125,0.125;0.775x0.755)\n"
     ]
    },
    {
     "data": {
      "image/png": "[encoded data removed]",
      "text/plain": [
       "<Figure size 1080x360 with 1 Axes>"
      ]
     },
     "metadata": {
      "needs_background": "light"
     },
     "output_type": "display_data"
    },
    {
     "data": {
      "image/png": "[encoded data removed]",
      "text/plain": [
       "<Figure size 1080x360 with 1 Axes>"
      ]
     },
     "metadata": {
      "needs_background": "light"
     },
     "output_type": "display_data"
    }
   ],
   "source": [
    "# Построим график распределения суммарных продаж по платформам в разные годы\n",
    "print(df\n",
    "      .query('platform in @top_sales_by_platform.index')\n",
    "      .pivot_table(index='year_of_release', values='sum_sales', columns='platform', aggfunc='sum')\n",
    "      .plot(grid=True, figsize=(15, 5), style='o-', title='Суммарные продажи по платформам')\n",
    "      )\n",
    "# Построим график распределения выпуска игр по платформам в разные годы для наглядности\n",
    "print(df\n",
    "      .query('platform in @top_sales_by_platform.index')\n",
    "      .pivot_table(index='year_of_release', values='name', columns='platform', aggfunc='count')\n",
    "      .plot(grid=True, figsize=(15, 5), style='o-', title='Выпуск игр по платформам')\n",
    "      )"
   ]
  },
  {
   "cell_type": "code",
   "execution_count": 23,
   "metadata": {},
   "outputs": [
    {
     "name": "stdout",
     "output_type": "stream",
     "text": [
      "Продолжительность периода суммарных продаж выше медианной 4.75\n"
     ]
    },
    {
     "data": {
      "text/html": [
       "<div>\n",
       "<style scoped>\n",
       "    .dataframe tbody tr th:only-of-type {\n",
       "        vertical-align: middle;\n",
       "    }\n",
       "\n",
       "    .dataframe tbody tr th {\n",
       "        vertical-align: top;\n",
       "    }\n",
       "\n",
       "    .dataframe thead th {\n",
       "        text-align: right;\n",
       "    }\n",
       "</style>\n",
       "<table border=\"1\" class=\"dataframe\">\n",
       "  <thead>\n",
       "    <tr style=\"text-align: right;\">\n",
       "      <th></th>\n",
       "      <th>0</th>\n",
       "    </tr>\n",
       "    <tr>\n",
       "      <th>platform</th>\n",
       "      <th></th>\n",
       "    </tr>\n",
       "  </thead>\n",
       "  <tbody>\n",
       "    <tr>\n",
       "      <th>DS</th>\n",
       "      <td>5</td>\n",
       "    </tr>\n",
       "    <tr>\n",
       "      <th>GBA</th>\n",
       "      <td>4</td>\n",
       "    </tr>\n",
       "    <tr>\n",
       "      <th>PS</th>\n",
       "      <td>5</td>\n",
       "    </tr>\n",
       "    <tr>\n",
       "      <th>PS2</th>\n",
       "      <td>6</td>\n",
       "    </tr>\n",
       "    <tr>\n",
       "      <th>PS3</th>\n",
       "      <td>5</td>\n",
       "    </tr>\n",
       "    <tr>\n",
       "      <th>PS4</th>\n",
       "      <td>2</td>\n",
       "    </tr>\n",
       "    <tr>\n",
       "      <th>Wii</th>\n",
       "      <td>5</td>\n",
       "    </tr>\n",
       "    <tr>\n",
       "      <th>X360</th>\n",
       "      <td>6</td>\n",
       "    </tr>\n",
       "  </tbody>\n",
       "</table>\n",
       "</div>"
      ],
      "text/plain": [
       "          0\n",
       "platform   \n",
       "DS        5\n",
       "GBA       4\n",
       "PS        5\n",
       "PS2       6\n",
       "PS3       5\n",
       "PS4       2\n",
       "Wii       5\n",
       "X360      6"
      ]
     },
     "metadata": {},
     "output_type": "display_data"
    },
    {
     "name": "stdout",
     "output_type": "stream",
     "text": [
      "\n"
     ]
    }
   ],
   "source": [
    "df_top_sales_by_years = (df\n",
    "      .query('platform in @top_sales_by_platform.index')\n",
    "      .pivot_table(index='year_of_release', values='sum_sales', columns='platform', aggfunc='sum')\n",
    "      )\n",
    "print('Продолжительность периода суммарных продаж выше медианной', df_top_sales_by_years[df_top_sales_by_years > df_top_sales_by_years.median()].count().mean())\n",
    "display(pd.DataFrame(df_top_sales_by_years[df_top_sales_by_years > df_top_sales_by_years.median()].count()))\n",
    "print()"
   ]
  },
  {
   "cell_type": "markdown",
   "metadata": {},
   "source": [
    "<b>upd.</b> Вычислив протяженности периода с продажами выше медианной для наиболее прибыльных платформ получили среднее значение периода 4,75 лет. Оно немного занижено, так как платформа PS4 на рынке недавно.\n",
    "\n",
    "По графикам распределения продаж и выпускам игр по наиболее прибыльным плафтормам выявлены характерные периоды. Весомое количество игр платформы выпускают в течение 4-6 лет. Этот пик достигается через 1-2 года после её появления. Если проследить преемственность платформы PS, то видно, как спад продаж старой платформы подхватывается подъемом продаж новой версии.\n",
    "\n",
    "Почти все платформы, популярные 5 лет и ранее не выпускаются сейчас (по всей видимости их поддержка прекращена) или их выпуски стремятся к нулю.\n",
    "\n",
    "Эти наблюдения подтверждают наше предыдущее предположение.\n",
    "\n",
    "<h3>Для расчетов актуальными будут данные только за последние 5 лет</h3>\n",
    "\n",
    "Отбросим лишнее."
   ]
  },
  {
   "cell_type": "markdown",
   "metadata": {},
   "source": [
    "<div class=\"alert alert-warning\">\n",
    "<h2> Комментарий ревьюера </h2>\n",
    "\n",
    "Значение средней продолжительности существования платформы приведено. Однако выводы ты делаешь по графику. Стоит также привести расчет данного значения. Подумай, стоит ли включать в расчет все платформы. Будут ли выбросы по продолжительности существования платформ?\n",
    "\n",
    "<h2> Ответ </h2>\n",
    "\n",
    "Добавил ячейки расчета и обновил вывод.\n",
    "    \n",
    "</div>"
   ]
  },
  {
   "cell_type": "markdown",
   "metadata": {},
   "source": [
    "<div class=\"alert alert-warning\">\n",
    "<h2> Комментарий ревьюера 2</h2>\n",
    "\n",
    "Расчет приведен. Только не стоило в него включать актуальные на настоящий момент платформы. Период их жизни еще продолжается. \n",
    "\n",
    "</div>"
   ]
  },
  {
   "cell_type": "code",
   "execution_count": 24,
   "metadata": {},
   "outputs": [],
   "source": [
    "year_start_count = 2012"
   ]
  },
  {
   "cell_type": "code",
   "execution_count": 25,
   "metadata": {},
   "outputs": [],
   "source": [
    "df_current_years = df.query('year_of_release >= @year_start_count')"
   ]
  },
  {
   "cell_type": "markdown",
   "metadata": {},
   "source": [
    "<div class=\"alert alert-success\">\n",
    "<h2> Комментарий ревьюера </h2>\n",
    "\n",
    "Актуальный период назван. Так в рассмотрение попадут только последние поколения платформ, а также будем рассматривать только конечный на данный момент интервал развития игровой индустрии. \n",
    "\n",
    "</div>"
   ]
  },
  {
   "cell_type": "markdown",
   "metadata": {},
   "source": [
    "<h3>Посмотрим на плафтормы, актуальные в последние 5 лет</h3>"
   ]
  },
  {
   "cell_type": "code",
   "execution_count": 26,
   "metadata": {},
   "outputs": [
    {
     "name": "stdout",
     "output_type": "stream",
     "text": [
      "platform\n",
      "PS4     265.79\n",
      "PS3     245.53\n",
      "X360    216.14\n",
      "3DS     186.84\n",
      "XOne    145.05\n",
      "WiiU     76.24\n",
      "PC       56.88\n",
      "PSV      43.61\n",
      "Wii      32.76\n",
      "DS       11.84\n",
      "PSP      11.02\n",
      "Name: sum_sales, dtype: float64\n"
     ]
    },
    {
     "data": {
      "text/plain": [
       "<matplotlib.axes._subplots.AxesSubplot at 0xba96f10>"
      ]
     },
     "metadata": {},
     "output_type": "display_data"
    },
    {
     "name": "stdout",
     "output_type": "stream",
     "text": [
      "AxesSubplot(0.125,0.125;0.775x0.755)\n"
     ]
    },
    {
     "data": {
      "image/png": "[encoded data removed]",
      "text/plain": [
       "<Figure size 1080x360 with 1 Axes>"
      ]
     },
     "metadata": {
      "needs_background": "light"
     },
     "output_type": "display_data"
    },
    {
     "data": {
      "image/png": "[encoded data removed]",
      "text/plain": [
       "<Figure size 1080x360 with 1 Axes>"
      ]
     },
     "metadata": {
      "needs_background": "light"
     },
     "output_type": "display_data"
    }
   ],
   "source": [
    "df_sales_current_years = df_current_years.groupby('platform')['sum_sales'].sum().sort_values(ascending=False)\n",
    "top_sales_current_years = df_sales_current_years[df_sales_current_years >= df_sales_current_years.median()]\n",
    "print(df_sales_current_years)\n",
    "display(df_current_years\n",
    "      .query('platform in @top_sales_current_years.index')\n",
    "      .pivot_table(index='year_of_release', values='sum_sales', columns='platform', aggfunc='sum')\n",
    "      .plot(grid=True, figsize=(15, 5), style='o-', title='Суммарные продажи по популярным платформам')\n",
    "      )\n",
    "print(df_current_years\n",
    "      .query('platform in @top_sales_current_years.index')\n",
    "      .pivot_table(index='year_of_release', values='name', columns='platform', aggfunc='count')\n",
    "      .plot(grid=True, figsize=(15, 5), style='o-', title='Выпуск игр по популярным платформам')\n",
    "      )"
   ]
  },
  {
   "cell_type": "markdown",
   "metadata": {},
   "source": [
    "Итак, <b>самая прибыльная платформа сейчас - PS4</b>, на рынке четвертый год. График продаж в 2016 году пошел на спад, но мы помним  о неполноте данных за 2016 год. Кроме того, выпуск игр за 2016 год на PS4 увеличился - скорее всего многие из них только начали продаваться.\n",
    "\n",
    "<b>Также выделяем XOne</b>. Четвертый год на рынке, кривая схожа с PS4 с меньшими показателями продаж.\n",
    "\n",
    "Третьей можно выделить платформу 3DS.\n",
    "\n",
    "На всякий случай проверим игры, выпущенные за последний год отдельно."
   ]
  },
  {
   "cell_type": "markdown",
   "metadata": {},
   "source": [
    "<div class=\"alert alert-success\">\n",
    "<h2> Комментарий ревьюера </h2>\n",
    "\n",
    "Да, именно эти платформы мы и можем назвать перспективными на 2017 год. \n",
    "\n",
    "</div>"
   ]
  },
  {
   "cell_type": "code",
   "execution_count": 27,
   "metadata": {},
   "outputs": [
    {
     "data": {
      "text/html": [
       "<div>\n",
       "<style scoped>\n",
       "    .dataframe tbody tr th:only-of-type {\n",
       "        vertical-align: middle;\n",
       "    }\n",
       "\n",
       "    .dataframe tbody tr th {\n",
       "        vertical-align: top;\n",
       "    }\n",
       "\n",
       "    .dataframe thead th {\n",
       "        text-align: right;\n",
       "    }\n",
       "</style>\n",
       "<table border=\"1\" class=\"dataframe\">\n",
       "  <thead>\n",
       "    <tr style=\"text-align: right;\">\n",
       "      <th>year_of_release</th>\n",
       "      <th>2016</th>\n",
       "    </tr>\n",
       "    <tr>\n",
       "      <th>platform</th>\n",
       "      <th></th>\n",
       "    </tr>\n",
       "  </thead>\n",
       "  <tbody>\n",
       "    <tr>\n",
       "      <th>PS4</th>\n",
       "      <td>164</td>\n",
       "    </tr>\n",
       "    <tr>\n",
       "      <th>XOne</th>\n",
       "      <td>87</td>\n",
       "    </tr>\n",
       "    <tr>\n",
       "      <th>PSV</th>\n",
       "      <td>85</td>\n",
       "    </tr>\n",
       "    <tr>\n",
       "      <th>PC</th>\n",
       "      <td>54</td>\n",
       "    </tr>\n",
       "    <tr>\n",
       "      <th>3DS</th>\n",
       "      <td>46</td>\n",
       "    </tr>\n",
       "    <tr>\n",
       "      <th>PS3</th>\n",
       "      <td>38</td>\n",
       "    </tr>\n",
       "    <tr>\n",
       "      <th>WiiU</th>\n",
       "      <td>14</td>\n",
       "    </tr>\n",
       "    <tr>\n",
       "      <th>X360</th>\n",
       "      <td>13</td>\n",
       "    </tr>\n",
       "    <tr>\n",
       "      <th>Wii</th>\n",
       "      <td>1</td>\n",
       "    </tr>\n",
       "  </tbody>\n",
       "</table>\n",
       "</div>"
      ],
      "text/plain": [
       "year_of_release  2016\n",
       "platform             \n",
       "PS4               164\n",
       "XOne               87\n",
       "PSV                85\n",
       "PC                 54\n",
       "3DS                46\n",
       "PS3                38\n",
       "WiiU               14\n",
       "X360               13\n",
       "Wii                 1"
      ]
     },
     "metadata": {},
     "output_type": "display_data"
    }
   ],
   "source": [
    "display((df_current_years\n",
    "       .query('year_of_release == 2016')\n",
    "       .pivot_table(columns='year_of_release', values='name', index='platform', aggfunc='count')\n",
    "       .sort_values(by=2016, ascending=False)\n",
    "      ))"
   ]
  },
  {
   "cell_type": "markdown",
   "metadata": {},
   "source": [
    "Интересно, платформ PSV и PC в нашем рейтинге по продажам за 5 лет отсутствуют. Новые игроки?"
   ]
  },
  {
   "cell_type": "code",
   "execution_count": 28,
   "metadata": {},
   "outputs": [
    {
     "name": "stdout",
     "output_type": "stream",
     "text": [
      "AxesSubplot(0.125,0.125;0.775x0.755)\n",
      "AxesSubplot(0.125,0.125;0.775x0.755)\n"
     ]
    },
    {
     "data": {
      "image/png": "[encoded data removed]",
      "text/plain": [
       "<Figure size 504x288 with 1 Axes>"
      ]
     },
     "metadata": {
      "needs_background": "light"
     },
     "output_type": "display_data"
    },
    {
     "data": {
      "image/png": "[encoded data removed]",
      "text/plain": [
       "<Figure size 504x288 with 1 Axes>"
      ]
     },
     "metadata": {
      "needs_background": "light"
     },
     "output_type": "display_data"
    }
   ],
   "source": [
    "check = ['PSV', 'PC']\n",
    "print(df_current_years\n",
    "      .query('platform in @check')\n",
    "      .pivot_table(index='year_of_release', values='sum_sales', columns='platform', aggfunc='sum')\n",
    "      .plot(grid=True, figsize=(7, 4), style='o-', title='Суммарные продажи по платформам PSV и PC')\n",
    "      )\n",
    "print(df_current_years\n",
    "      .query('platform in @check')\n",
    "      .pivot_table(index='year_of_release', values='name', columns='platform', aggfunc='count')\n",
    "      .plot(grid=True, figsize=(7, 4), style='o-', title='Выпуск игр по платформам PSV и PC')\n",
    "      )"
   ]
  },
  {
   "cell_type": "markdown",
   "metadata": {},
   "source": [
    "Все-таки, ничего интересного. Игр выпущено много, а прибыль с их продаж смешная. Зря время потратили."
   ]
  },
  {
   "cell_type": "markdown",
   "metadata": {},
   "source": [
    "<h3>Построим диаграмму размаха (график «ящик с усами») по глобальным продажам игр по платформам за последние 5 лет</h3>"
   ]
  },
  {
   "cell_type": "code",
   "execution_count": 29,
   "metadata": {},
   "outputs": [
    {
     "data": {
      "image/png": "[encoded data removed]",
      "text/plain": [
       "<Figure size 1080x360 with 1 Axes>"
      ]
     },
     "metadata": {
      "needs_background": "light"
     },
     "output_type": "display_data"
    },
    {
     "name": "stdout",
     "output_type": "stream",
     "text": [
      "Медиана продаж platform\n",
      "X360    0.28\n",
      "XOne    0.20\n",
      "WiiU    0.20\n",
      "PS4     0.17\n",
      "PS3     0.17\n",
      "Wii     0.17\n",
      "Name: sum_sales, dtype: float64\n",
      "Медиана продаж по всем плаформам: 0.11\n"
     ]
    }
   ],
   "source": [
    "import matplotlib.pyplot as plt\n",
    "df_current_years.boxplot(by = 'platform', column = 'sum_sales', figsize=(15, 5)).set_ylim(0, 1.5)\n",
    "plt.show()\n",
    "print('Медиана продаж', df_current_years.groupby('platform')['sum_sales'].median().sort_values(ascending=False).head(6))\n",
    "print('Медиана продаж по всем плаформам:', df_current_years['sum_sales'].median())"
   ]
  },
  {
   "cell_type": "markdown",
   "metadata": {},
   "source": [
    "<b>upd.</b> <b>Серии консолей от PlayStation (PS3, PS4), X-box (X360, XOne) и Nintendo (Wii, WiiU) выпускают игры с довольно похожими продажами. </b>Глобально за период с 2012 года продажи по платформам в среднем достигают до 0,80 млн.долларов, а медианная величина продаж находится на 0,11.\n",
    "\n",
    "Платформы PS3 и лидер продаж PS4 продают игры с размахом от 0,10 до 0,60 млн.долларов. При этом медиана суммарных продаж для игры за последние 5 лет для этих платформ - около 0,17.\n",
    "\n",
    "Исчезающая платформа Wii и её преемник WiiU продают игры со схожими показателями. Игр выпускают немного, зато продаются они на уровне с PS.\n",
    "\n",
    "А вот показатель продаж по играм на платформе X360 и её преемнике XOne интереснее. Воть здесь \"ящик\" дорастает почти до 0,80 млн.долларов, а медиана по X360 максимальная из всех платформ - 0,28. <b>Выбранный период охватывает завершение \"карьеры\" X360 и смену на XOne. Судя по всему, игры для X360 в отличались большим спросом и качеством. Возможно, XOne наберет схожие показатели в скором времени.</b>\n",
    "\n",
    "<b>Небольшие ручные платформы (PSP, PSV) сильно теряются на фоне остальных. Похоже, именно на них сильно сказывается давление рынка мобильных игр.</b>\n",
    "\n",
    "<b>Чтобы лучше понять разницу между платформами нам предстоит изучить покупателей: может одни консоли популярны во всем мире, а другие в узком кругу. Или оценки пользователей на какие то платформы оказывают существенное влияние на продажи. Узнаем далее.</b>\n",
    "\n",
    "Если сопоставлять лидеров суммарных продаж и выпуска игр - PS4 и XOne, то сталкиваемся с очень похожими \"ящиками\". Игры продаются по сопоставимым ценам. Соответственно, кто больше выпускает - тот делает больше продаж. <b>Лидером остается платформа PS4</b>."
   ]
  },
  {
   "cell_type": "markdown",
   "metadata": {},
   "source": [
    "<div class=\"alert alert-warning\">\n",
    "<h2> Комментарий ревьюера</h2>\n",
    " \n",
    "Подумай, из-за чего формируется разница между платформами. Старайся не только описывать результат, но и трактовать его. \n",
    "    \n",
    "<h2> Ответ</h2>\n",
    " \n",
    "Верное замечание - циферки с графиков любой переписать сможет) Постарался погрузиться в бизнес процесс. Дополнения в выводе выделил жирным.\n",
    "</div>"
   ]
  },
  {
   "cell_type": "markdown",
   "metadata": {},
   "source": [
    "<div class=\"alert alert-success\">\n",
    "<h2> Комментарий ревьюера 2</h2>\n",
    "\n",
    "Молодец, что привел обосновал полученные результаты. Очень точное замечание по поводу портативных приставок. \n",
    "\n",
    "</div>"
   ]
  },
  {
   "cell_type": "markdown",
   "metadata": {},
   "source": [
    "<h3>Влияние продаж внутри платформы PS4 отзывов пользователей и критикой</h3>"
   ]
  },
  {
   "cell_type": "markdown",
   "metadata": {},
   "source": [
    "Построим диаграммы рассеяния по указанным параметрам."
   ]
  },
  {
   "cell_type": "code",
   "execution_count": 30,
   "metadata": {},
   "outputs": [
    {
     "data": {
      "image/png": "[encoded data removed]",
      "text/plain": [
       "<Figure size 432x288 with 1 Axes>"
      ]
     },
     "metadata": {
      "needs_background": "light"
     },
     "output_type": "display_data"
    },
    {
     "data": {
      "image/png": "[encoded data removed]",
      "text/plain": [
       "<Figure size 432x288 with 1 Axes>"
      ]
     },
     "metadata": {
      "needs_background": "light"
     },
     "output_type": "display_data"
    }
   ],
   "source": [
    "df_current_years_ps4 = df_current_years[df_current_years['platform'] == 'PS4']\n",
    "df_current_years_ps4.plot(x = 'critic_score', y = 'sum_sales', kind = 'scatter', color = 'red', alpha=0.3, grid=True, figsize=(6, 4), title='Влияние на продажы отзывов критиков').set_ylim(0, 2)\n",
    "plt.show()\n",
    "df_current_years_ps4.plot(x = 'user_score', y = 'sum_sales', kind = 'scatter', color = 'green', alpha=0.3, grid=True, figsize=(6, 4), title='Влияние на продажы отзывов пользователей').set_ylim(0, 2)\n",
    "plt.show()"
   ]
  },
  {
   "cell_type": "markdown",
   "metadata": {},
   "source": [
    "И найдем коэффициент Пирсона по каждой паре"
   ]
  },
  {
   "cell_type": "code",
   "execution_count": 31,
   "metadata": {},
   "outputs": [
    {
     "name": "stdout",
     "output_type": "stream",
     "text": [
      "Корреляция между продажами PS4 и отзывами критиков: 39.0%\n",
      "Корреляция с отзывами критиков по всем платформам: 29.2%\n",
      "Средняя оценка критиков: 72.2\n",
      "\n",
      "Корреляция между продажами PS4 и отзывами пользователей: -2.0%\n",
      "Корреляция с отзывами пользователей по всем платформам: 1.6%\n",
      "Средняя оценка пользователей: 66.6\n"
     ]
    }
   ],
   "source": [
    "print('Корреляция между продажами PS4 и отзывами критиков: {:.1%}'.format(df_current_years_ps4['sum_sales'].corr(df_current_years_ps4['critic_score'])))\n",
    "print('Корреляция с отзывами критиков по всем платформам: {:.1%}'.format(df_current_years['sum_sales'].corr(df_current_years['critic_score'])))\n",
    "print('Средняя оценка критиков: {:.1f}'.format(df_current_years['critic_score'].mean()))\n",
    "print()\n",
    "print('Корреляция между продажами PS4 и отзывами пользователей: {:.1%}'.format(df_current_years_ps4['sum_sales'].corr(df_current_years_ps4['user_score'])))\n",
    "print('Корреляция с отзывами пользователей по всем платформам: {:.1%}'.format(df_current_years['sum_sales'].corr(df_current_years['user_score'])))\n",
    "print('Средняя оценка пользователей: {:.1f}'.format(df_current_years['user_score'].mean()*10))"
   ]
  },
  {
   "cell_type": "markdown",
   "metadata": {},
   "source": [
    "<b>upd.</b> Оценки пользователей совершенно не влияют на продажи. <b>Как указывали в начале проекта - данные по оценкам неполные. Выборка вполне могла оказаться нерепрезентативной. Пользователи могут быть весьма субъективны. Кроме того, чтобы игру оценить - её надо купить для начала. Вполне возможно, что у не очень качественных игр были успешные рекламные кампании. Они вызывали бурный спрос, но получали посредственный отзыв.</b>\n",
    "    \n",
    "Оценки критиков имеют положительную корреляцию с продажами, но очень слабую. <b>Продолжая рассуждение - критиков обмануть рекламной труднее и их оценки хоть как то отражаются на продажах. А может быть и наоборот :) Кроме того оценивают игры по наборы схожих критериев: графика на уровне, сюжет присутствует, играть можно - средний балл набран.</b>\n",
    "    \n",
    "Можно сделать следующие выводы: либо отсутствие данных по оценкам настолько критично, либо оценки не оказывают сильное влияние на продажи."
   ]
  },
  {
   "cell_type": "markdown",
   "metadata": {},
   "source": [
    "<div class=\"alert alert-success\">\n",
    "<h2> Комментарий ревьюера </h2>\n",
    "\n",
    "Результат получен. Подумай, чем он вызван. Почему мы получаем такие показатели?\n",
    "    \n",
    "<h2> Ответ </h2>\n",
    "\n",
    "Было трудно, но постарался хоть что то выжать. Все-таки не дело просто цифры с расчетов переписывать :)\n",
    "</div>"
   ]
  },
  {
   "cell_type": "markdown",
   "metadata": {},
   "source": [
    "<div class=\"alert alert-success\">\n",
    "<h2> Комментарий ревьюера 2</h2>\n",
    "\n",
    "Также пользователи должны сначала купить игру, а уже затем проставить ей оценку. \n",
    "\n",
    "</div>"
   ]
  },
  {
   "cell_type": "markdown",
   "metadata": {},
   "source": [
    "<h3>Посмотрим на общее распределение игр по жанрам</h3>"
   ]
  },
  {
   "cell_type": "code",
   "execution_count": 32,
   "metadata": {},
   "outputs": [
    {
     "data": {
      "text/plain": [
       "genre\n",
       "Action          1032\n",
       "Role-Playing     372\n",
       "Adventure        303\n",
       "Sports           269\n",
       "Shooter          236\n",
       "Misc             192\n",
       "Racing           116\n",
       "Fighting         109\n",
       "Platform          85\n",
       "Simulation        82\n",
       "Strategy          71\n",
       "Puzzle            28\n",
       "Name: name, dtype: int64"
      ]
     },
     "metadata": {},
     "output_type": "display_data"
    },
    {
     "data": {
      "image/png": "[encoded data removed]",
      "text/plain": [
       "<Figure size 1080x288 with 1 Axes>"
      ]
     },
     "metadata": {
      "needs_background": "light"
     },
     "output_type": "display_data"
    }
   ],
   "source": [
    "display(df_current_years.groupby('genre').count().sort_values('name', ascending=False)['name'])\n",
    "(df_current_years\n",
    " .pivot_table(index='genre', values='name', aggfunc='count')\n",
    " .plot(grid=True, figsize=(15, 4), style='o-', kind = 'bar')\n",
    ")\n",
    "plt.show()"
   ]
  },
  {
   "cell_type": "markdown",
   "metadata": {},
   "source": [
    "Из всех игр около 35% процентов составляют экшены. Этот жанр безоговорочный топ по количеству игр - 1032. Далее идут РПГ, приключения, спортивные игры и шутеры. Их выпуск составляет по 12,8 - 10,4 - 9,3 - 8,1% соответственно."
   ]
  },
  {
   "cell_type": "code",
   "execution_count": 33,
   "metadata": {},
   "outputs": [
    {
     "name": "stdout",
     "output_type": "stream",
     "text": [
      "1.0932203389830508\n"
     ]
    }
   ],
   "source": [
    "some_genres = ['Role-Playing', 'Adventure', 'Sports']\n",
    "print(len(df_current_years[df_current_years['genre'] == 'Action'])/len(df_current_years.query('genre in @some_genres')))"
   ]
  },
  {
   "cell_type": "markdown",
   "metadata": {},
   "source": [
    "Экшенов выпускают так много, что совместно три последующих по популярности жанра не могут их обойти!"
   ]
  },
  {
   "cell_type": "code",
   "execution_count": 34,
   "metadata": {},
   "outputs": [
    {
     "data": {
      "text/plain": [
       "genre\n",
       "Action          390.35\n",
       "Shooter         267.53\n",
       "Role-Playing    178.23\n",
       "Sports          158.65\n",
       "Misc             77.37\n",
       "Platform         55.42\n",
       "Racing           47.09\n",
       "Fighting         40.02\n",
       "Simulation       33.39\n",
       "Adventure        26.70\n",
       "Strategy         12.28\n",
       "Puzzle            4.67\n",
       "Name: sum_sales, dtype: float64"
      ]
     },
     "metadata": {},
     "output_type": "display_data"
    },
    {
     "name": "stdout",
     "output_type": "stream",
     "text": [
      "AxesSubplot(0.125,0.125;0.775x0.755)\n"
     ]
    },
    {
     "data": {
      "image/png": "[encoded data removed]",
      "text/plain": [
       "<Figure size 1080x288 with 1 Axes>"
      ]
     },
     "metadata": {
      "needs_background": "light"
     },
     "output_type": "display_data"
    }
   ],
   "source": [
    "display(df_current_years.groupby('genre').sum().sort_values('sum_sales', ascending=False)['sum_sales'])\n",
    "print(df_current_years\n",
    "      .pivot_table(index='genre', values='sum_sales', aggfunc='sum')\n",
    "      .plot(grid=True, figsize=(15, 4), style='o-', kind = 'bar')\n",
    "     )\n",
    "plt.show()"
   ]
  },
  {
   "cell_type": "markdown",
   "metadata": {},
   "source": [
    "В суммарных продажах лидер тот же - экшены. Но перевес уже не многократный. Из интересного - из топ 5 по количеству игр в топ 5 по продажам не видно жанра Adventure."
   ]
  },
  {
   "cell_type": "code",
   "execution_count": 35,
   "metadata": {},
   "outputs": [
    {
     "data": {
      "image/png": "[encoded data removed]",
      "text/plain": [
       "<Figure size 1080x360 with 1 Axes>"
      ]
     },
     "metadata": {
      "needs_background": "light"
     },
     "output_type": "display_data"
    },
    {
     "data": {
      "text/plain": [
       "'Медиана продаж за игру'"
      ]
     },
     "metadata": {},
     "output_type": "display_data"
    },
    {
     "data": {
      "text/plain": [
       "genre\n",
       "Shooter         0.380\n",
       "Sports          0.210\n",
       "Platform        0.190\n",
       "Role-Playing    0.135\n",
       "Fighting        0.130\n",
       "Racing          0.120\n",
       "Misc            0.120\n",
       "Simulation      0.110\n",
       "Action          0.110\n",
       "Strategy        0.070\n",
       "Puzzle          0.040\n",
       "Adventure       0.030\n",
       "Name: sum_sales, dtype: float64"
      ]
     },
     "metadata": {},
     "output_type": "display_data"
    }
   ],
   "source": [
    "df_current_years.boxplot(by = 'genre', column = 'sum_sales', figsize=(15, 5)).set_ylim(0, 2)\n",
    "plt.show()\n",
    "display('Медиана продаж за игру', df_current_years.groupby('genre')['sum_sales'].median().sort_values(ascending=False))"
   ]
  },
  {
   "cell_type": "markdown",
   "metadata": {},
   "source": [
    "А вот с распределением цен интересно. Самые продаваемые игры - шутеры. Медиана продаж за игру 0,38 с размахом аж до 1,25. Спортивные игры на втором месте, продажы почти в 2 раза меньше - 0,21. На третьем месте жанр \"платформы\" с продажами по 0,19. Но нельзя назвать этот факт интересным, поскольку игр в таком жанре выпускают совсем мало.\n",
    "\n",
    "Экшены хоть и лидеры по выпуску, но продается каждая игра не очень хорошо - всего по 0,11. Очень слабо."
   ]
  },
  {
   "cell_type": "markdown",
   "metadata": {},
   "source": [
    "<div class=\"alert alert-success\">\n",
    "<h2> Комментарий ревьюера </h2>\n",
    "\n",
    "Анализ популярности жанров проведен. Однако не стоит забывать, что производство игр в жанрах Action или Shooter обходится сильно дороже, чем производство Puzzle-игр. \n",
    "    \n",
    "<h2> Ответ </h2>\n",
    "\n",
    "Согласен! Но ведь мы анализируем для ритейла, а не производителя игры. Насколько я понял задачу, \"Стримчик\" издержки производства не интересуют.\n",
    "\n",
    "</div>"
   ]
  },
  {
   "cell_type": "markdown",
   "metadata": {},
   "source": [
    "<div class=\"alert alert-success\">\n",
    "<h2> Комментарий ревьюера 2</h2>\n",
    "\n",
    "Да, но отпускная цена игр в жанре Action будет больше, чем в Puzzle. Конечно, нужно иметь куда больше данных для более качественного анализа именно выручки с игр.  \n",
    "\n",
    "</div>"
   ]
  },
  {
   "cell_type": "markdown",
   "metadata": {},
   "source": [
    "<h2>Выводы по шагу 4</h2>\n",
    "\n",
    "Мы определили, что для хорошего прогноза на 2017 год нам будет достаточно данных за последние 5 лет. Такую же продолжительность имеет в среднем период \"жизнеспособности\" платформы, начинающийся через 1-2 года после её появления.\n",
    "\n",
    "Выявили актуальные в последнее время платформы - PS4 и XOne. На рынке они 4 года - это значит, что они только приближаются к пику популярности.\n",
    "\n",
    "Платформа PS4 является лидирующей. На ней выпускается значительно больше игр, а их стоимость очень близка к стоимости игр на XOne.\n",
    "\n",
    "Оценки пользователей на продажи совсем не влияют. Оценки критиков хоть и имеют корреляцию с продажами, но назвать это влияние весомым нельзя.\n",
    "\n",
    "Самый выпускаемый жанр - Action. Он же лидер по суммарным продажам. Но эту победу одержало количество. Качество (продажи за игру) - очень низкое. Второе место отдаем жанру Shooter - лучшее качество и приемлемое количество."
   ]
  },
  {
   "cell_type": "markdown",
   "metadata": {},
   "source": [
    "<div class=\"alert alert-success\">\n",
    "<h2> Комментарий ревьюера </h2>\n",
    "\n",
    "Круто, что ты не забываешь делать выводы по каждому пункту анализа. \n",
    "\n",
    "</div>"
   ]
  },
  {
   "cell_type": "markdown",
   "metadata": {},
   "source": [
    "<a id='step5'></a><h2>Шаг 5. Составьте портрет пользователя каждого региона</h2>\n",
    "\n",
    "Для начала познакомимся с тем, как обстоят дела с продажами по регионам."
   ]
  },
  {
   "cell_type": "code",
   "execution_count": 36,
   "metadata": {},
   "outputs": [
    {
     "name": "stdout",
     "output_type": "stream",
     "text": [
      "Суммарные продажи по регионам:\n"
     ]
    },
    {
     "data": {
      "text/plain": [
       "na_sales    591.92\n",
       "eu_sales    507.08\n",
       "jp_sales    192.70\n",
       "dtype: float64"
      ]
     },
     "metadata": {},
     "output_type": "display_data"
    }
   ],
   "source": [
    "regions = ['na_sales', 'eu_sales', 'jp_sales']\n",
    "print('Суммарные продажи по регионам:')\n",
    "display(df_current_years[regions].sum())"
   ]
  },
  {
   "cell_type": "code",
   "execution_count": 37,
   "metadata": {},
   "outputs": [
    {
     "name": "stdout",
     "output_type": "stream",
     "text": [
      "AxesSubplot(0.125,0.125;0.775x0.755)\n"
     ]
    },
    {
     "data": {
      "image/png": "[encoded data removed]",
      "text/plain": [
       "<Figure size 720x288 with 1 Axes>"
      ]
     },
     "metadata": {
      "needs_background": "light"
     },
     "output_type": "display_data"
    }
   ],
   "source": [
    "print(df_current_years\n",
    "      .pivot_table(index='year_of_release', values=(regions), aggfunc='sum')\n",
    "      .plot(grid=True, figsize=(10, 4), style='o-', title='Суммарные продажи по регионам', kind = 'bar')\n",
    "      )"
   ]
  },
  {
   "cell_type": "markdown",
   "metadata": {},
   "source": [
    "Рынок игр в Северной Америке и Европе за последние 5 лет сопоставим. Суммарно продажи больше в Северной Америке, а по неполным данным за 2016 год пока лидирует Европа. Продажи игр в Японии ниже в 2,5 раза."
   ]
  },
  {
   "cell_type": "markdown",
   "metadata": {},
   "source": [
    "<h3>Самые популярные платформы по регионам</h3>"
   ]
  },
  {
   "cell_type": "code",
   "execution_count": 38,
   "metadata": {},
   "outputs": [
    {
     "name": "stdout",
     "output_type": "stream",
     "text": [
      "Продажи по  na_sales\n"
     ]
    },
    {
     "data": {
      "text/plain": [
       "platform\n",
       "X360    140.05\n",
       "PS4     108.74\n",
       "PS3     103.38\n",
       "XOne     93.12\n",
       "3DS      56.15\n",
       "Name: na_sales, dtype: float64"
      ]
     },
     "metadata": {},
     "output_type": "display_data"
    },
    {
     "data": {
      "image/png": "[encoded data removed]",
      "text/plain": [
       "<Figure size 504x216 with 1 Axes>"
      ]
     },
     "metadata": {
      "needs_background": "light"
     },
     "output_type": "display_data"
    },
    {
     "name": "stdout",
     "output_type": "stream",
     "text": [
      "Продажи по  eu_sales\n"
     ]
    },
    {
     "data": {
      "text/plain": [
       "platform\n",
       "PS4     141.09\n",
       "PS3     106.86\n",
       "X360     74.52\n",
       "XOne     51.59\n",
       "3DS      42.85\n",
       "Name: eu_sales, dtype: float64"
      ]
     },
     "metadata": {},
     "output_type": "display_data"
    },
    {
     "data": {
      "image/png": "[encoded data removed]",
      "text/plain": [
       "<Figure size 504x216 with 1 Axes>"
      ]
     },
     "metadata": {
      "needs_background": "light"
     },
     "output_type": "display_data"
    },
    {
     "name": "stdout",
     "output_type": "stream",
     "text": [
      "Продажи по  jp_sales\n"
     ]
    },
    {
     "data": {
      "text/plain": [
       "platform\n",
       "3DS     87.84\n",
       "PS3     35.29\n",
       "PSV     21.11\n",
       "PS4     15.96\n",
       "WiiU    13.01\n",
       "Name: jp_sales, dtype: float64"
      ]
     },
     "metadata": {},
     "output_type": "display_data"
    },
    {
     "data": {
      "image/png": "[encoded data removed]",
      "text/plain": [
       "<Figure size 504x216 with 1 Axes>"
      ]
     },
     "metadata": {
      "needs_background": "light"
     },
     "output_type": "display_data"
    }
   ],
   "source": [
    "for region in regions:\n",
    "    top_platform_region = df_current_years.groupby('platform')[region].sum().sort_values(ascending=False).head()\n",
    "    print('Продажи по ', region)\n",
    "    display(top_platform_region)\n",
    "    (df_current_years.query('platform in @top_platform_region.index')\n",
    "            .pivot_table(index='year_of_release', values=region, columns='platform', aggfunc='sum')\n",
    "            .plot(grid=True, figsize=(7, 3), style='o-', kind = 'bar')\n",
    "         )\n",
    "    plt.show()"
   ]
  },
  {
   "cell_type": "markdown",
   "metadata": {},
   "source": [
    "Топ-5 платформ для Северной Америки и Европы одинаковый - две последние PS, две последние X-box и 3DS. За 2015 и 2016 года платформа PS4 лидирует над XOne. В Северной Америке с небольшим перевесом, а в Европе более чем в 2 раза.\n",
    "\n",
    "В Японии ситуация совершенно иная. Лидирует платформа 3DS с продажами в 2 раза больше остальных платформ. Совершенно не популярен X-box, покупателю ближе родные производители PS и Nintendo.\n",
    "\n",
    "Можно сделать выводы:\n",
    "1. В Северной Америке хорошо продаются обе топовые платформы - отсюда и самые большие продажи на этом рынке.\n",
    "2. В Европе пользуется спросом PS.\n",
    "3. В Японии самобытный рынок игр - любят платформу 3DS. Похоже, отсюда и низкие показатели продаж."
   ]
  },
  {
   "cell_type": "markdown",
   "metadata": {},
   "source": [
    "<h3>Самые популярные жанры по регионам</h3>"
   ]
  },
  {
   "cell_type": "code",
   "execution_count": 39,
   "metadata": {},
   "outputs": [
    {
     "name": "stdout",
     "output_type": "stream",
     "text": [
      "Продажи по  na_sales\n",
      "genre\n",
      "Action          178.02\n",
      "Shooter         144.81\n",
      "Sports           81.53\n",
      "Role-Playing     64.11\n",
      "Misc             38.19\n",
      "Name: na_sales, dtype: float64\n"
     ]
    },
    {
     "data": {
      "image/png": "[encoded data removed]",
      "text/plain": [
       "<Figure size 504x216 with 1 Axes>"
      ]
     },
     "metadata": {
      "needs_background": "light"
     },
     "output_type": "display_data"
    },
    {
     "name": "stdout",
     "output_type": "stream",
     "text": [
      "Продажи по  eu_sales\n",
      "genre\n",
      "Action          159.53\n",
      "Shooter         113.49\n",
      "Sports           69.09\n",
      "Role-Playing     48.58\n",
      "Racing           27.29\n",
      "Name: eu_sales, dtype: float64\n"
     ]
    },
    {
     "data": {
      "image/png": "[encoded data removed]",
      "text/plain": [
       "<Figure size 504x216 with 1 Axes>"
      ]
     },
     "metadata": {
      "needs_background": "light"
     },
     "output_type": "display_data"
    },
    {
     "name": "stdout",
     "output_type": "stream",
     "text": [
      "Продажи по  jp_sales\n",
      "genre\n",
      "Role-Playing    65.54\n",
      "Action          52.80\n",
      "Misc            12.86\n",
      "Simulation      10.41\n",
      "Fighting         9.44\n",
      "Name: jp_sales, dtype: float64\n"
     ]
    },
    {
     "data": {
      "image/png": "[encoded data removed]",
      "text/plain": [
       "<Figure size 504x216 with 1 Axes>"
      ]
     },
     "metadata": {
      "needs_background": "light"
     },
     "output_type": "display_data"
    }
   ],
   "source": [
    "for region in regions:\n",
    "    top_genre_region = df_current_years.groupby('genre')[region].sum().sort_values(ascending=False).head()\n",
    "    print('Продажи по ', region)\n",
    "    print(top_genre_region)\n",
    "    (df_current_years.query('genre in @top_genre_region.index')\n",
    "            .pivot_table(index='year_of_release', values=region, columns='genre', aggfunc='sum')\n",
    "            .plot(grid=True, figsize=(7, 3), style='o-', kind = 'bar')\n",
    "         )\n",
    "    plt.show()"
   ]
  },
  {
   "cell_type": "markdown",
   "metadata": {},
   "source": [
    "И снова в Северной Америке и Европе наблюдается подобная картинка. Топ-5 жанров различается только последней строкой. Экшены, шутеры, спортивные игры и РПГ - всё как и в глобальном рейтинге. Продажи на пятых строчках рейтинга значительно меньше топ-4. Примечательно, что продажи шутеров 2015 года в Северной Америке превысили продажи экшенов, а в Европе они сравнялись. Мы помним, что шутеры продаются по самым большим ценам из всех жанров. Возможно, для этих двух рынков стоит обратить внимание именно на него в 2017 году.\n",
    "\n",
    "Япония снова отличилась. Топ-2 делят между собой РПГ и экшены с большим перевесом от остальных жанров. А в топ-5 у нас симуляторы, файтинги и прочие игры. Никаких шутеров! Да уж.\n",
    "\n",
    "<b>upd.</b> Можно сделать выводы:\n",
    "1. В Северной Америке и Европе любят экшены и шутеры. Причем любовь к шутерам крепчает с каждым годом. Не холодны сердца людей к спортивным играм и РПГ.\n",
    "2. В Японии любят экшены и РПГ и совмсем не признают шутеры.\n",
    "\n",
    "<b>Япония культурно далека и самобытна от остального мира. Не удивительно, что у них и в игровой индустрии \"своим\" рады несоизмеримо больше. А вот сравнивать размеры рынков очень трудно - их население на порядок меньше двух других регионов. Может быть двухкратная разница по суммарным продажам это вовсем не провал, а успех?</b>"
   ]
  },
  {
   "cell_type": "markdown",
   "metadata": {},
   "source": [
    "<div class=\"alert alert-success\">\n",
    "<h2> Комментарий ревьюера </h2>\n",
    " \n",
    "Из-за чего японский рынок игр так сильно отличается от других? \n",
    "    \n",
    "<h2> Ответ </h2>\n",
    " \n",
    "Дополнил вывод коротким обновлением.\n",
    "</div>"
   ]
  },
  {
   "cell_type": "markdown",
   "metadata": {},
   "source": [
    "<h3>Влияние рейтинга ESRB на продажи по регионам</h3>"
   ]
  },
  {
   "cell_type": "code",
   "execution_count": 40,
   "metadata": {
    "scrolled": false
   },
   "outputs": [
    {
     "name": "stdout",
     "output_type": "stream",
     "text": [
      "Общее количество игр по рейтингам\n"
     ]
    },
    {
     "data": {
      "text/plain": [
       "rating\n",
       "E        397\n",
       "E10+     308\n",
       "M        498\n",
       "T        414\n",
       "tbd     1278\n",
       "Name: name, dtype: int64"
      ]
     },
     "metadata": {},
     "output_type": "display_data"
    },
    {
     "name": "stdout",
     "output_type": "stream",
     "text": [
      "Продажи по ESRB рейтингу по na_sales\n"
     ]
    },
    {
     "data": {
      "image/png": "[encoded data removed]",
      "text/plain": [
       "<Figure size 360x216 with 1 Axes>"
      ]
     },
     "metadata": {
      "needs_background": "light"
     },
     "output_type": "display_data"
    },
    {
     "data": {
      "image/png": "[encoded data removed]",
      "text/plain": [
       "<Figure size 360x144 with 1 Axes>"
      ]
     },
     "metadata": {
      "needs_background": "light"
     },
     "output_type": "display_data"
    },
    {
     "name": "stdout",
     "output_type": "stream",
     "text": [
      "Продажи по ESRB рейтингу по eu_sales\n"
     ]
    },
    {
     "data": {
      "image/png": "[encoded data removed]",
      "text/plain": [
       "<Figure size 360x216 with 1 Axes>"
      ]
     },
     "metadata": {
      "needs_background": "light"
     },
     "output_type": "display_data"
    },
    {
     "data": {
      "image/png": "[encoded data removed]",
      "text/plain": [
       "<Figure size 360x144 with 1 Axes>"
      ]
     },
     "metadata": {
      "needs_background": "light"
     },
     "output_type": "display_data"
    },
    {
     "name": "stdout",
     "output_type": "stream",
     "text": [
      "Продажи по ESRB рейтингу по jp_sales\n"
     ]
    },
    {
     "data": {
      "image/png": "[encoded data removed]",
      "text/plain": [
       "<Figure size 360x216 with 1 Axes>"
      ]
     },
     "metadata": {
      "needs_background": "light"
     },
     "output_type": "display_data"
    },
    {
     "data": {
      "image/png": "[encoded data removed]",
      "text/plain": [
       "<Figure size 360x144 with 1 Axes>"
      ]
     },
     "metadata": {
      "needs_background": "light"
     },
     "output_type": "display_data"
    }
   ],
   "source": [
    "#Заменим пустые значения рейтинга на tbd для того, чтобы учесть их в анализе\n",
    "df_current_years['rating'].fillna(value='tbd', inplace=True)\n",
    "print('Общее количество игр по рейтингам')\n",
    "display(df_current_years.groupby('rating')['name'].count())\n",
    "for region in regions:\n",
    "    print('Продажи по ESRB рейтингу по', region)\n",
    "    df_current_years.pivot_table(index='rating', values=region, aggfunc='sum').plot(grid=True, style='o-', kind = 'bar', figsize=(5, 3))\n",
    "    df_current_years.boxplot(by = 'rating', column = region, figsize=(5, 2)).set_ylim(0, 0.5)\n",
    "    plt.show()"
   ]
  },
  {
   "cell_type": "markdown",
   "metadata": {},
   "source": [
    "<b>upd.</b> Северная Америка и Европа снова показывают схожие результаты. Игры с ограничением 18+ продаются дороже остальных и составляют около трети от всех продаж. <b>Примечательно, что игры без рейтинга продаются тоже хорошо, но их усредненные продажи за игру крайне малы. Похоже, несколько топовых игр в рейтинг ESRB не попали, тем самым внесли свой вклад в столбец продаж tbd. Отсутствие данных по рейтингу вносит неясность.</b>\n",
    "\n",
    "В Японии суммарные продажи сопоставимы во всех возрастных рейтингах, кроме E10+ - там продаж заметно меньше. Скорее всего по причине того, что таких игр в принципе немного.<b>Если брать в расчет игры без рейтинга - оценивать становится нечего. Похоже, что самобытная Япония игры для своего рынка оценивает не в ESRB, а отдает предпочтение свом более авторитетным организациям.</b>"
   ]
  },
  {
   "cell_type": "markdown",
   "metadata": {},
   "source": [
    "<div class=\"alert alert-danger\">\n",
    "<h2> Комментарий ревьюера</h2>\n",
    "\n",
    "Обрати внимание - ты не учитываешь игры без рейтинга. В результате огромная часть игр просто выпадает из анализа. Найди способ учесть их при группировке значений по рейтингу.\n",
    "    \n",
    "<h2> Ответ</h2>\n",
    "\n",
    "Согласен, провал. Уточнения сильно изменили картинку.\n",
    "    \n",
    "</div>"
   ]
  },
  {
   "cell_type": "markdown",
   "metadata": {},
   "source": [
    "<div class=\"alert alert-success\">\n",
    "<h2> Комментарий ревьюера 2</h2>\n",
    "\n",
    "Здорово, что ты не просто получил результат, но также и обосновал причину появления именно таких значений)\n",
    "\n",
    "</div>"
   ]
  },
  {
   "cell_type": "markdown",
   "metadata": {},
   "source": [
    "<h2>Выводы по шагу 5</h2>\n",
    "\n",
    "В Северной Америке практически одинаково хорошо продаются игры платформ PS4 и XOne. Любимые жанры: экшены, шутеры, спортивные игры и РПГ с перспективной сменой лидера продаж на шутеры. Игры с рейтингом M популярнее остальных.\n",
    "\n",
    "В Европе очень популярны игры на платформе PS4, на втором месте XOne. Предпочтения по жанрам у европейцев схожи с северо-американцами. Игры с рейтингом M популярнее остальных.\n",
    "\n",
    "В Японии лучше всего продаются игры на 3DS. Играть больше всего любят в РПГ и экшены, а рейтинг ESRB значимого влияния на продажи не оказывает."
   ]
  },
  {
   "cell_type": "markdown",
   "metadata": {},
   "source": [
    "<div class=\"alert alert-success\">\n",
    "<h2> Комментарий ревьюера </h2>\n",
    "\n",
    "Портрет типичного пользователя каждого из регионов получен. Приведены все необходимые графики. Здорово, что отмечены индивидуальные особенности каждого региона. \n",
    "\n",
    "</div>"
   ]
  },
  {
   "cell_type": "markdown",
   "metadata": {},
   "source": [
    "<a id='step6'></a><h2>Шаг 6. Проведите исследование статистических показателей</h2>\n",
    "\n",
    "Мы уже определили, что глобально на продажи имеют небольшое влияние только оценки критиков. Рассмотрим, есть ли какая то взаимосвязь между оценками и жанрами.\n",
    "\n",
    "<h3>Оценки критиков</h3>"
   ]
  },
  {
   "cell_type": "markdown",
   "metadata": {},
   "source": [
    "<div class=\"alert alert-success\">\n",
    "<h2> Комментарий ревьюера</h2>\n",
    "\n",
    "Импорт необходимых библиотек следует производить в первой ячейке работы, как то рекомендует стандарт. \n",
    "    \n",
    "<h2> Ответ</h2>\n",
    "\n",
    "Исправлено.\n",
    "</div>"
   ]
  },
  {
   "cell_type": "code",
   "execution_count": 41,
   "metadata": {},
   "outputs": [
    {
     "data": {
      "text/html": [
       "<div>\n",
       "<style scoped>\n",
       "    .dataframe tbody tr th:only-of-type {\n",
       "        vertical-align: middle;\n",
       "    }\n",
       "\n",
       "    .dataframe tbody tr th {\n",
       "        vertical-align: top;\n",
       "    }\n",
       "\n",
       "    .dataframe thead th {\n",
       "        text-align: right;\n",
       "    }\n",
       "</style>\n",
       "<table border=\"1\" class=\"dataframe\">\n",
       "  <thead>\n",
       "    <tr style=\"text-align: right;\">\n",
       "      <th></th>\n",
       "      <th>mean</th>\n",
       "      <th>var</th>\n",
       "      <th>std</th>\n",
       "    </tr>\n",
       "    <tr>\n",
       "      <th>genre</th>\n",
       "      <th></th>\n",
       "      <th></th>\n",
       "      <th></th>\n",
       "    </tr>\n",
       "  </thead>\n",
       "  <tbody>\n",
       "    <tr>\n",
       "      <th>Puzzle</th>\n",
       "      <td>75.44</td>\n",
       "      <td>48.28</td>\n",
       "      <td>6.95</td>\n",
       "    </tr>\n",
       "    <tr>\n",
       "      <th>Role-Playing</th>\n",
       "      <td>74.14</td>\n",
       "      <td>156.02</td>\n",
       "      <td>12.49</td>\n",
       "    </tr>\n",
       "    <tr>\n",
       "      <th>Shooter</th>\n",
       "      <td>73.55</td>\n",
       "      <td>153.05</td>\n",
       "      <td>12.37</td>\n",
       "    </tr>\n",
       "    <tr>\n",
       "      <th>Strategy</th>\n",
       "      <td>73.22</td>\n",
       "      <td>198.23</td>\n",
       "      <td>14.08</td>\n",
       "    </tr>\n",
       "    <tr>\n",
       "      <th>Misc</th>\n",
       "      <td>73.04</td>\n",
       "      <td>87.99</td>\n",
       "      <td>9.38</td>\n",
       "    </tr>\n",
       "    <tr>\n",
       "      <th>Platform</th>\n",
       "      <td>72.75</td>\n",
       "      <td>239.74</td>\n",
       "      <td>15.48</td>\n",
       "    </tr>\n",
       "    <tr>\n",
       "      <th>Action</th>\n",
       "      <td>72.25</td>\n",
       "      <td>137.61</td>\n",
       "      <td>11.73</td>\n",
       "    </tr>\n",
       "    <tr>\n",
       "      <th>Racing</th>\n",
       "      <td>71.96</td>\n",
       "      <td>142.64</td>\n",
       "      <td>11.94</td>\n",
       "    </tr>\n",
       "    <tr>\n",
       "      <th>Sports</th>\n",
       "      <td>71.35</td>\n",
       "      <td>319.15</td>\n",
       "      <td>17.86</td>\n",
       "    </tr>\n",
       "    <tr>\n",
       "      <th>Adventure</th>\n",
       "      <td>70.41</td>\n",
       "      <td>158.4</td>\n",
       "      <td>12.59</td>\n",
       "    </tr>\n",
       "    <tr>\n",
       "      <th>Fighting</th>\n",
       "      <td>70.25</td>\n",
       "      <td>172.85</td>\n",
       "      <td>13.15</td>\n",
       "    </tr>\n",
       "    <tr>\n",
       "      <th>Simulation</th>\n",
       "      <td>65.56</td>\n",
       "      <td>182.59</td>\n",
       "      <td>13.51</td>\n",
       "    </tr>\n",
       "  </tbody>\n",
       "</table>\n",
       "</div>"
      ],
      "text/plain": [
       "               mean     var    std\n",
       "genre                             \n",
       "Puzzle        75.44   48.28   6.95\n",
       "Role-Playing  74.14  156.02  12.49\n",
       "Shooter       73.55  153.05  12.37\n",
       "Strategy      73.22  198.23  14.08\n",
       "Misc          73.04   87.99   9.38\n",
       "Platform      72.75  239.74  15.48\n",
       "Action        72.25  137.61  11.73\n",
       "Racing        71.96  142.64  11.94\n",
       "Sports        71.35  319.15  17.86\n",
       "Adventure     70.41   158.4  12.59\n",
       "Fighting      70.25  172.85  13.15\n",
       "Simulation    65.56  182.59  13.51"
      ]
     },
     "metadata": {},
     "output_type": "display_data"
    },
    {
     "data": {
      "image/png": "[encoded data removed]",
      "text/plain": [
       "<Figure size 288x144 with 1 Axes>"
      ]
     },
     "metadata": {
      "needs_background": "light"
     },
     "output_type": "display_data"
    },
    {
     "data": {
      "image/png": "[encoded data removed]",
      "text/plain": [
       "<Figure size 288x144 with 1 Axes>"
      ]
     },
     "metadata": {
      "needs_background": "light"
     },
     "output_type": "display_data"
    },
    {
     "data": {
      "image/png": "[encoded data removed]",
      "text/plain": [
       "<Figure size 288x144 with 1 Axes>"
      ]
     },
     "metadata": {
      "needs_background": "light"
     },
     "output_type": "display_data"
    },
    {
     "data": {
      "image/png": "[encoded data removed]",
      "text/plain": [
       "<Figure size 288x144 with 1 Axes>"
      ]
     },
     "metadata": {
      "needs_background": "light"
     },
     "output_type": "display_data"
    },
    {
     "data": {
      "image/png": "[encoded data removed]",
      "text/plain": [
       "<Figure size 288x144 with 1 Axes>"
      ]
     },
     "metadata": {
      "needs_background": "light"
     },
     "output_type": "display_data"
    },
    {
     "data": {
      "image/png": "[encoded data removed]",
      "text/plain": [
       "<Figure size 288x144 with 1 Axes>"
      ]
     },
     "metadata": {
      "needs_background": "light"
     },
     "output_type": "display_data"
    },
    {
     "data": {
      "image/png": "[encoded data removed]",
      "text/plain": [
       "<Figure size 288x144 with 1 Axes>"
      ]
     },
     "metadata": {
      "needs_background": "light"
     },
     "output_type": "display_data"
    },
    {
     "data": {
      "image/png": "[encoded data removed]",
      "text/plain": [
       "<Figure size 288x144 with 1 Axes>"
      ]
     },
     "metadata": {
      "needs_background": "light"
     },
     "output_type": "display_data"
    },
    {
     "data": {
      "image/png": "[encoded data removed]",
      "text/plain": [
       "<Figure size 288x144 with 1 Axes>"
      ]
     },
     "metadata": {
      "needs_background": "light"
     },
     "output_type": "display_data"
    },
    {
     "data": {
      "image/png": "[encoded data removed]",
      "text/plain": [
       "<Figure size 288x144 with 1 Axes>"
      ]
     },
     "metadata": {
      "needs_background": "light"
     },
     "output_type": "display_data"
    },
    {
     "data": {
      "image/png": "[encoded data removed]",
      "text/plain": [
       "<Figure size 288x144 with 1 Axes>"
      ]
     },
     "metadata": {
      "needs_background": "light"
     },
     "output_type": "display_data"
    },
    {
     "data": {
      "image/png": "[encoded data removed]",
      "text/plain": [
       "<Figure size 288x144 with 1 Axes>"
      ]
     },
     "metadata": {
      "needs_background": "light"
     },
     "output_type": "display_data"
    }
   ],
   "source": [
    "genres = df_current_years.groupby('genre').count().index\n",
    "genre_critic_score = pd.DataFrame(index = genres, columns = ['mean', 'var', 'std'])\n",
    "for genre in genres:\n",
    "    genre_critic_score.loc[genre, 'mean'] = round(df_current_years.query('genre == @genre')['critic_score'].mean(), 2)\n",
    "    genre_critic_score.loc[genre, 'var'] = round(np.var(df_current_years.query('genre == @genre')['critic_score'], ddof=1), 2)\n",
    "    genre_critic_score.loc[genre, 'std'] = round(np.std(df_current_years.query('genre == @genre')['critic_score'], ddof=1), 2)\n",
    "    (df_current_years\n",
    "    .query('genre == @genre')\n",
    "    .hist(by='genre', column='critic_score', bins=[0, 5, 10, 15, 20, 25, 30, 35, 40, 45, 50, 55, 60, 65, 70, 75, 80, 85, 90, 95, 100], figsize=(4, 2))\n",
    "    )    \n",
    "display(genre_critic_score.sort_values(by = 'mean', ascending=False))"
   ]
  },
  {
   "cell_type": "markdown",
   "metadata": {
    "scrolled": true
   },
   "source": [
    "Средний рейтинг критиков для большинства жанров находится в диапазоне 71,35-73,55, а стандартное отклонение в диапазоне 11,7-13,15. Выходит, что большинство оценок критиков попадает в диапазон 60-85.\n",
    "\n",
    "Наибольший средний рейтинг 75,44 у жанра Puzzle, здесь же и самое маленькое отклонение от среднего. Скорее всего в этом жанре просто очень мало игр, а выпускаемые игры оценены критиками положительно. На гистограмме видно, что оценок менее 65 нет, а сами данные скошены правее от максимума.\n",
    "\n",
    "На втором месте жанр РПГ, на третьем - шутеры. Средний рейтинг и стандартное отклонение примерно одинаковы, но гистограммы сильно отличаются. У РПГ очень много игр оценены на 65-90 без выраженного пика. А у шутеров пик приходится как раз на среднее значение, а данные скошены влево. Гистограмма для шутеров больше похожа на нормальное распределение, наверное, потому что в этом жанре выпущено достаточно большое количество игр.\n",
    "\n",
    "Топ жанров по продажам (экшены) имеет среднюю оценку критиков 72,25. Пик гистограммы также приходится на это значение. Данные смещаются вправо, но есть и выбросы - игры с оценками 50 и ниже, аж до 20."
   ]
  },
  {
   "cell_type": "markdown",
   "metadata": {},
   "source": [
    "<h3>Оценки пользователей</h3>\n",
    "\n",
    "Шкала оценок критиков - от 0 до 100, а пользователей - от 0 до 10. Для удобвства сопоставления с оценками критиков умножим значения оценок пользователей на 10."
   ]
  },
  {
   "cell_type": "code",
   "execution_count": 42,
   "metadata": {},
   "outputs": [
    {
     "data": {
      "text/html": [
       "<div>\n",
       "<style scoped>\n",
       "    .dataframe tbody tr th:only-of-type {\n",
       "        vertical-align: middle;\n",
       "    }\n",
       "\n",
       "    .dataframe tbody tr th {\n",
       "        vertical-align: top;\n",
       "    }\n",
       "\n",
       "    .dataframe thead th {\n",
       "        text-align: right;\n",
       "    }\n",
       "</style>\n",
       "<table border=\"1\" class=\"dataframe\">\n",
       "  <thead>\n",
       "    <tr style=\"text-align: right;\">\n",
       "      <th></th>\n",
       "      <th>mean</th>\n",
       "      <th>var</th>\n",
       "      <th>std</th>\n",
       "    </tr>\n",
       "    <tr>\n",
       "      <th>genre</th>\n",
       "      <th></th>\n",
       "      <th></th>\n",
       "      <th></th>\n",
       "    </tr>\n",
       "  </thead>\n",
       "  <tbody>\n",
       "    <tr>\n",
       "      <th>Puzzle</th>\n",
       "      <td>76.33</td>\n",
       "      <td>7.9</td>\n",
       "      <td>8.89</td>\n",
       "    </tr>\n",
       "    <tr>\n",
       "      <th>Role-Playing</th>\n",
       "      <td>73.36</td>\n",
       "      <td>15.98</td>\n",
       "      <td>12.64</td>\n",
       "    </tr>\n",
       "    <tr>\n",
       "      <th>Adventure</th>\n",
       "      <td>71.37</td>\n",
       "      <td>23.17</td>\n",
       "      <td>15.22</td>\n",
       "    </tr>\n",
       "    <tr>\n",
       "      <th>Fighting</th>\n",
       "      <td>70.06</td>\n",
       "      <td>17.95</td>\n",
       "      <td>13.4</td>\n",
       "    </tr>\n",
       "    <tr>\n",
       "      <th>Misc</th>\n",
       "      <td>70.05</td>\n",
       "      <td>16.25</td>\n",
       "      <td>12.75</td>\n",
       "    </tr>\n",
       "    <tr>\n",
       "      <th>Action</th>\n",
       "      <td>68.6</td>\n",
       "      <td>18.84</td>\n",
       "      <td>13.73</td>\n",
       "    </tr>\n",
       "    <tr>\n",
       "      <th>Platform</th>\n",
       "      <td>67.34</td>\n",
       "      <td>26.93</td>\n",
       "      <td>16.41</td>\n",
       "    </tr>\n",
       "    <tr>\n",
       "      <th>Simulation</th>\n",
       "      <td>64.99</td>\n",
       "      <td>32.2</td>\n",
       "      <td>17.95</td>\n",
       "    </tr>\n",
       "    <tr>\n",
       "      <th>Strategy</th>\n",
       "      <td>64.67</td>\n",
       "      <td>40.85</td>\n",
       "      <td>20.21</td>\n",
       "    </tr>\n",
       "    <tr>\n",
       "      <th>Shooter</th>\n",
       "      <td>64.4</td>\n",
       "      <td>20.44</td>\n",
       "      <td>14.3</td>\n",
       "    </tr>\n",
       "    <tr>\n",
       "      <th>Racing</th>\n",
       "      <td>62.19</td>\n",
       "      <td>27.89</td>\n",
       "      <td>16.7</td>\n",
       "    </tr>\n",
       "    <tr>\n",
       "      <th>Sports</th>\n",
       "      <td>54.13</td>\n",
       "      <td>29</td>\n",
       "      <td>17.03</td>\n",
       "    </tr>\n",
       "  </tbody>\n",
       "</table>\n",
       "</div>"
      ],
      "text/plain": [
       "               mean    var    std\n",
       "genre                            \n",
       "Puzzle        76.33    7.9   8.89\n",
       "Role-Playing  73.36  15.98  12.64\n",
       "Adventure     71.37  23.17  15.22\n",
       "Fighting      70.06  17.95   13.4\n",
       "Misc          70.05  16.25  12.75\n",
       "Action         68.6  18.84  13.73\n",
       "Platform      67.34  26.93  16.41\n",
       "Simulation    64.99   32.2  17.95\n",
       "Strategy      64.67  40.85  20.21\n",
       "Shooter        64.4  20.44   14.3\n",
       "Racing        62.19  27.89   16.7\n",
       "Sports        54.13     29  17.03"
      ]
     },
     "metadata": {},
     "output_type": "display_data"
    },
    {
     "data": {
      "image/png": "[encoded data removed]",
      "text/plain": [
       "<Figure size 288x144 with 1 Axes>"
      ]
     },
     "metadata": {
      "needs_background": "light"
     },
     "output_type": "display_data"
    },
    {
     "data": {
      "image/png": "[encoded data removed]",
      "text/plain": [
       "<Figure size 288x144 with 1 Axes>"
      ]
     },
     "metadata": {
      "needs_background": "light"
     },
     "output_type": "display_data"
    },
    {
     "data": {
      "image/png": "[encoded data removed]",
      "text/plain": [
       "<Figure size 288x144 with 1 Axes>"
      ]
     },
     "metadata": {
      "needs_background": "light"
     },
     "output_type": "display_data"
    },
    {
     "data": {
      "image/png": "[encoded data removed]",
      "text/plain": [
       "<Figure size 288x144 with 1 Axes>"
      ]
     },
     "metadata": {
      "needs_background": "light"
     },
     "output_type": "display_data"
    },
    {
     "data": {
      "image/png": "[encoded data removed]",
      "text/plain": [
       "<Figure size 288x144 with 1 Axes>"
      ]
     },
     "metadata": {
      "needs_background": "light"
     },
     "output_type": "display_data"
    },
    {
     "data": {
      "image/png": "[encoded data removed]",
      "text/plain": [
       "<Figure size 288x144 with 1 Axes>"
      ]
     },
     "metadata": {
      "needs_background": "light"
     },
     "output_type": "display_data"
    },
    {
     "data": {
      "image/png": "[encoded data removed]",
      "text/plain": [
       "<Figure size 288x144 with 1 Axes>"
      ]
     },
     "metadata": {
      "needs_background": "light"
     },
     "output_type": "display_data"
    },
    {
     "data": {
      "image/png": "[encoded data removed]",
      "text/plain": [
       "<Figure size 288x144 with 1 Axes>"
      ]
     },
     "metadata": {
      "needs_background": "light"
     },
     "output_type": "display_data"
    },
    {
     "data": {
      "image/png": "[encoded data removed]",
      "text/plain": [
       "<Figure size 288x144 with 1 Axes>"
      ]
     },
     "metadata": {
      "needs_background": "light"
     },
     "output_type": "display_data"
    },
    {
     "data": {
      "image/png": "[encoded data removed]",
      "text/plain": [
       "<Figure size 288x144 with 1 Axes>"
      ]
     },
     "metadata": {
      "needs_background": "light"
     },
     "output_type": "display_data"
    },
    {
     "data": {
      "image/png": "[encoded data removed]",
      "text/plain": [
       "<Figure size 288x144 with 1 Axes>"
      ]
     },
     "metadata": {
      "needs_background": "light"
     },
     "output_type": "display_data"
    },
    {
     "data": {
      "image/png": "[encoded data removed]",
      "text/plain": [
       "<Figure size 288x144 with 1 Axes>"
      ]
     },
     "metadata": {
      "needs_background": "light"
     },
     "output_type": "display_data"
    }
   ],
   "source": [
    "genres = df_current_years.groupby('genre').count().index\n",
    "genre_user_score = pd.DataFrame(index = genres, columns = ['mean', 'var', 'std'])\n",
    "for genre in genres:\n",
    "    genre_user_score.loc[genre, 'mean'] = round(df_current_years.query('genre == @genre')['user_score'].mean(), 3)*10\n",
    "    genre_user_score.loc[genre, 'var'] = round(np.var(df_current_years.query('genre == @genre')['user_score'], ddof=1), 3)*10\n",
    "    genre_user_score.loc[genre, 'std'] = round(np.std(df_current_years.query('genre == @genre')['user_score'], ddof=1), 3)*10\n",
    "    (df_current_years\n",
    "    .query('genre == @genre')\n",
    "    .hist(by='genre', column='user_score', bins=[0, 0.5, 1, 1.5, 2, 2.5, 3, 3.5, 4, 4.5, 5, 5.5, 6, 6.5, 7, 7.5, 8, 8.5, 9, 9.5, 10], figsize=(4, 2))\n",
    "    )    \n",
    "display(genre_user_score.sort_values(by = 'mean', ascending=False))"
   ]
  },
  {
   "cell_type": "markdown",
   "metadata": {},
   "source": [
    "Средний рейтинг пользователей сильно отличается от жанра к жанру и диапазоном с разницей в 2 пункта его не описать. Стандартное отклонение тоже сильно разнится - от 8 до 20. Оценки пользователей менее объективны, чем у критиков. Такой большой разброс врят ли может помочь нам в работе.\n",
    "\n",
    "Наибольший средний рейтинг также у жанра Puzzle - 76,33, и наименьшее стаднартное отклонение тоже. Что ж, либо в эти игры играют только ценители, либо производят их действительно качественно.\n",
    "\n",
    "На втором месте жанр у пользователей тоже РПГ. Стандартное отклонение 12,64 - сопоставимое с оценками критиков. Здесь пользователи и критики тоже солидарны. Разница в гистограмме - пользователи оценивают в среднем с пиком в диапазоне 75-85 с со смещение данных влево и несколькими выбросами с рейтингом менее 40.\n",
    "\n",
    "Топ жанров по продажам (экшены) имеет среднюю оценку оценку пользователей 68,6 с немного великоватым отклонением 13,73. Пик гистограммы приходится на 75-80, выше чем у критиков. Но данные также смещены влево с выбросами до 15 баллов.\n",
    "\n",
    "<b>upd.</b> На многих гистограммах присутствует смещение оценок влево. Можно предположить, что средний пользователь достаточно высоко оценивает игры. В то время, как негативный отзыв юывает более категоричным и отбрасывает данные влево."
   ]
  },
  {
   "cell_type": "markdown",
   "metadata": {},
   "source": [
    "<h2>Выводы по шагу 6</h2>\n",
    "\n",
    "Гистограммы оценок пользователей справедливы только в тех жанрах, где выпущено много игр. В остальных случаях данные либо слишком разнародные с отклонением в 20%, либо их настолько мало, что небольшое количество удачных игр говорит об недооцененности жанра.\n",
    "\n",
    "Из топ жанров по продажам выделяются РПГ - их хорошо оценивают пользователи и критики. Экшены находятся чуть ниже середины обоих списков, спортивные игры оцениваются еще хуже. А вот шутеры критиками оцениваются хорошо в противовес пользователям."
   ]
  },
  {
   "cell_type": "markdown",
   "metadata": {},
   "source": [
    "<div class=\"alert alert-success\">\n",
    "<h2> Комментарий ревьюера</h2>\n",
    "\n",
    "Анализ по жанрам проведен. Как думаешь, почему большинство жанров имеют скошенные влево распределения оценок?\n",
    "    \n",
    "<h2> Ответ</h2>\n",
    "\n",
    "Попробовал интерпритировать. Но, скорее всего по анализу гистограмм надо теорию поизучать лучше.\n",
    "</div>"
   ]
  },
  {
   "cell_type": "markdown",
   "metadata": {},
   "source": [
    "<a id='step7'></a><h2>Шаг 7. Проверьте гипотезы</h2>\n",
    "\n",
    "<h3>Гипотеза: Средние пользовательские рейтинги платформ Xbox One и PC одинаковые</h3>"
   ]
  },
  {
   "cell_type": "markdown",
   "metadata": {},
   "source": [
    "Нулева гипотеза: среднее генеральной совокупности оценок пользователей на плафторме XOne равно среднему генеральной совокупности на PC.\n",
    "Проверка нулевой гипотезы сводится к проверке гипотезы о равенстве средних двух генеральных совокупностей."
   ]
  },
  {
   "cell_type": "code",
   "execution_count": 43,
   "metadata": {},
   "outputs": [
    {
     "name": "stdout",
     "output_type": "stream",
     "text": [
      "Дисперсия рейтинга для XOne: 1.89\n",
      "Дисперсия рейтинга для XOne: 2.79\n",
      "Дисперсии различны\n",
      "\n",
      "p-значение: 0.22149981578404954\n",
      "Не получилось отвергнуть нулевую гипотезу\n"
     ]
    }
   ],
   "source": [
    "user_rating_xone = df_current_years.query('platform == \"XOne\"')['user_score'].dropna()\n",
    "user_rating_pc = df_current_years.query('platform == \"PC\"')['user_score'].dropna()\n",
    "\n",
    "print('Дисперсия рейтинга для XOne:', round(np.var(user_rating_xone, ddof=1), 2))\n",
    "print('Дисперсия рейтинга для XOne:', round(np.var(user_rating_pc, ddof=1), 2))\n",
    "print('Дисперсии различны')\n",
    "print()\n",
    "\n",
    "alpha = .05\n",
    "\n",
    "results = st.ttest_ind(user_rating_xone, user_rating_pc, equal_var=False)\n",
    "\n",
    "print('p-значение:', results.pvalue)\n",
    "\n",
    "if (results.pvalue < alpha):\n",
    "    print(\"Отвергаем нулевую гипотезу\")\n",
    "else:\n",
    "    print(\"Не получилось отвергнуть нулевую гипотезу\")"
   ]
  },
  {
   "cell_type": "markdown",
   "metadata": {},
   "source": [
    "Полученное значение p-value говорит о том, что разница рейтингов на двух платформах с вероятностью более 22% может быть случайной. Такое значение слишком велико, чтобы говорить о существенных различиях в пользовательских рейтингах платформ XOne и PC."
   ]
  },
  {
   "cell_type": "markdown",
   "metadata": {},
   "source": [
    "<div class=\"alert alert-success\">\n",
    "<h2> Комментарий ревьюера </h2>\n",
    "\n",
    "Гипотезы сформулированы и проверены верно.\n",
    "\n",
    "</div>"
   ]
  },
  {
   "cell_type": "markdown",
   "metadata": {},
   "source": [
    "<h3>Гипотеза: Средние пользовательские рейтинги жанров Action и Sports разные</h3>"
   ]
  },
  {
   "cell_type": "markdown",
   "metadata": {},
   "source": [
    "Нулева гипотеза: среднее генеральной совокупности оценок пользователей по жанру Action равно среднему генеральной совокупности по Sports.\n",
    "Альтернативная гипотеза: средние пользовательские рейтинги жанров разные."
   ]
  },
  {
   "cell_type": "code",
   "execution_count": 44,
   "metadata": {},
   "outputs": [
    {
     "name": "stdout",
     "output_type": "stream",
     "text": [
      "Дисперсия рейтинга для Action: 1.88\n",
      "Дисперсия рейтинга для Sports: 2.9\n",
      "Дисперсии различны\n",
      "\n",
      "p-значение: 2.0354281747676602e-25\n",
      "Отвергаем нулевую гипотезу\n"
     ]
    }
   ],
   "source": [
    "user_rating_action = df_current_years.query('genre == \"Action\"')['user_score'].dropna()\n",
    "user_rating_sports = df_current_years.query('genre == \"Sports\"')['user_score'].dropna()\n",
    "\n",
    "print('Дисперсия рейтинга для Action:', round(np.var(user_rating_action, ddof=1), 2))\n",
    "print('Дисперсия рейтинга для Sports:', round(np.var(user_rating_sports, ddof=1), 2))\n",
    "print('Дисперсии различны')\n",
    "print()\n",
    "\n",
    "alpha = .05\n",
    "\n",
    "results = st.ttest_ind(user_rating_action, user_rating_sports, equal_var=False)\n",
    "\n",
    "print('p-значение:', results.pvalue)\n",
    "\n",
    "if (results.pvalue < alpha):\n",
    "    print(\"Отвергаем нулевую гипотезу\")\n",
    "else:\n",
    "    print(\"Не получилось отвергнуть нулевую гипотезу\")"
   ]
  },
  {
   "cell_type": "markdown",
   "metadata": {},
   "source": [
    "Полученное значение p-value говорит о том, что разница рейтингов двух жанров с ничтожно маленькой вероятностью случайна. Отвергая нулевую гипотезу можно сказать о наличии различий в пользовательских рейтингах для жанров Action и Sports."
   ]
  },
  {
   "cell_type": "markdown",
   "metadata": {},
   "source": [
    "<div class=\"alert alert-danger\">\n",
    "<h2> Комментарий ревьюера </h2>\n",
    "\n",
    "Прежде чем произвести проверку гипотезы через T-критерий Стьюдента произведи проверку дисперсии выборок, чтобы понять с каким параметром использовать метод проверки. Уточни параметр equal_var при проведении тестов. \n",
    "    \n",
    "<h2> Ответ </h2>\n",
    "\n",
    "Исправлено.\n",
    "</div>"
   ]
  },
  {
   "cell_type": "markdown",
   "metadata": {},
   "source": [
    "<div class=\"alert alert-success\">\n",
    "<h2> Комментарий ревьюера 2</h2>\n",
    "\n",
    "Уточнение данного параметра позволяет нам увеличить точность проводимых тестов. \n",
    "\n",
    "</div>"
   ]
  },
  {
   "cell_type": "markdown",
   "metadata": {},
   "source": [
    "<a id='step8'></a><h2>Шаг 8. Напишите общий вывод</h2>"
   ]
  },
  {
   "cell_type": "markdown",
   "metadata": {},
   "source": [
    "Проведя анализ данных 16715 игр, выпущенных с 1980 по 2016 года было выявлено следующее.\n",
    "\n",
    "1. Свои максимальные продажи платформы собирают на пике популярности, достигаемого через 1-2 года после появления платформы в течение последующих 5 лет.\n",
    "\n",
    "2. Актуальные в последнее время платформы - PS4 и XOne. На рынке они 4 года - это значит, что они только приближаются к пику популярности. Платформа PS4 является лидирующей. На ней выпускается значительно больше игр, а их стоимость очень близка к стоимости игр на XOne.\n",
    "\n",
    "3. Оценки пользователей на продажи совсем не влияют. Оценки критиков хоть и имеют корреляцию с продажами, но назвать это влияние весомым нельзя.\n",
    "\n",
    "4. Самый выпускаемый жанр - Action. Он же лидер по суммарным продажам. Но эту победу одержало количество. Качество (продажи за игру) - очень низкое. Второе место отдаем жанру Shooter - лучшее качество и приемлемое количество.\n",
    "\n",
    "5. Продаются игры лучше всего в Северной Америке и Европе, за последние 5 лет продажи сопоставимы. Суммарно продажи больше в Северной Америке, а по неполным данным за 2016 год пока лидирует Европа. Продажи игр в Японии ниже в 2,5 раза.\n",
    "\n",
    "6. Хотя у нас есть свои глобальные лидеры по платформам и жанрам, необходимо учитывать особенности региона продаж."
   ]
  },
  {
   "cell_type": "markdown",
   "metadata": {},
   "source": [
    "<h3>Итоговые рекомендации для продаж в 2017 году:</h3>\n",
    "\n",
    "<b>1. Северная Америка</b>\n",
    "\n",
    "Популярнее будут игры для платформ PS4 и XOne. Жанры: шутеры, экшены, спортивные игры и РПГ. Рейтинг ESRB M популярнее остальных.\n",
    "\n",
    "<b>2. Европа</b>\n",
    "\n",
    "Популярнее будут игры для платформ PS4 и XOne. Жанры: экшены, шутеры, спортивные игры и РПГ. Рейтинг ESRB M популярнее остальных.\n",
    "\n",
    "<b>3. Япония</b>\n",
    "\n",
    "Самая популярная платформа 3DS. Жанры: РПГ и экшены. Рейтинг ESRB значимого влияния на продажи не оказывает."
   ]
  },
  {
   "cell_type": "markdown",
   "metadata": {},
   "source": [
    "<div class=\"alert alert-success\">\n",
    "<h2> Комментарий ревьюера </h2>\n",
    "\n",
    "Выводы описаны грамотно. Приведены ответы на главные вопросы проекта. В выводах можно приводить полученные ранее значения, правильно. Здорово, что по каждому пункту работы приведен вывод, а также то, что ты првиел рекомендации для компании. \n",
    "\n",
    "</div>"
   ]
  },
  {
   "cell_type": "markdown",
   "metadata": {},
   "source": [
    "<div class=\"alert alert-warning\">\n",
    "<h2> Комментарий ревьюера </h2>\n",
    "\n",
    "Если тебе нравится тема визуализации, то можешь изучить методы библиотеки seaborn. Она позволяет строить довольно презентабельные графики.\n",
    "\n",
    "Ты проделал большую работу, молодец! Критических замечаний немного. Однако с ними важно поработать и их исправить. Также есть достаточное число желтых комментариев. Думаю, исправить их тебе не составит труда. Жду твою работу :)\n",
    "\n",
    "<h2> Ответ</h2>\n",
    "\n",
    "Спасибо! Постарался все исправить.\n",
    "    \n",
    "А насколько близок данный проект к тому, что делается дата-аналитиками на практике?\n",
    "    \n",
    "У меня вся работа заняла гораздо более 10 заявленных часов :) около 20 на версию 1.0, плюс около 3-4 часов на исправления. С учетом того, что перед написанием кода почти всегда перелистывал пройденные уроки и залазил в документацию по python 24 часа, скажи конкурентны ли полученные навыки для джуна или стажировки где-нибудь?\n",
    "    \n",
    "</div>"
   ]
  },
  {
   "cell_type": "markdown",
   "metadata": {},
   "source": [
    "<div class=\"alert alert-success\">\n",
    "<h2> Комментарий ревьюера 2</h2>\n",
    "\n",
    "Важно набираться опыта, тогда все будет занимать куда меньше времени. Для стажировки может и хватить, все-таки и сертификат о прохождении будет. Советую на данном этапе сделать акцент на визуализациях, изучить библиотеки seaborn и plotly. \n",
    "\n",
    "</div>"
   ]
  },
  {
   "cell_type": "markdown",
   "metadata": {},
   "source": [
    "<div class=\"alert alert-success\">\n",
    "<h2> Комментарий ревьюера 2</h2>\n",
    "\n",
    "Помарки исправлены, и теперь работа выполнена хорошо. Ты здорово поработал, молодец. Поздравляю со сданным проектом. Надеюсь, он был интересен и познавателен. Спасибо за оставленные комментарии. Успехов в дальнейшем пути :)\n",
    "\n",
    "</div>"
   ]
  }
 ],
 "metadata": {
  "kernelspec": {
   "display_name": "Python 3",
   "language": "python",
   "name": "python3"
  },
  "language_info": {
   "codemirror_mode": {
    "name": "ipython",
    "version": 3
   },
   "file_extension": ".py",
   "mimetype": "text/x-python",
   "name": "python",
   "nbconvert_exporter": "python",
   "pygments_lexer": "ipython3",
   "version": "3.7.6"
  }
 },
 "nbformat": 4,
 "nbformat_minor": 4
}
